{
 "cells": [
  {
   "cell_type": "code",
   "execution_count": 1,
   "id": "f9591443-af4d-4265-806f-acaee7fcfed5",
   "metadata": {},
   "outputs": [],
   "source": [
    "import numpy as np"
   ]
  },
  {
   "cell_type": "code",
   "execution_count": 3,
   "id": "acd8ff78-b851-45ce-a88e-27c6064b8b70",
   "metadata": {},
   "outputs": [],
   "source": [
    "a = np.random.randint(20,size=10) #20'ye kadar olacak şekilde 10 farklı veri dizisi oluştur."
   ]
  },
  {
   "cell_type": "code",
   "execution_count": 4,
   "id": "0938d86a-1d60-4cc0-a267-c10dc1d52db5",
   "metadata": {},
   "outputs": [
    {
     "data": {
      "text/plain": [
       "array([ 5, 15,  3,  1,  6, 15,  4, 17, 12, 13])"
      ]
     },
     "execution_count": 4,
     "metadata": {},
     "output_type": "execute_result"
    }
   ],
   "source": [
    "a"
   ]
  },
  {
   "cell_type": "code",
   "execution_count": 5,
   "id": "8277fcd9-49aa-4013-8011-d19f484eba00",
   "metadata": {},
   "outputs": [
    {
     "data": {
      "text/plain": [
       "5"
      ]
     },
     "execution_count": 5,
     "metadata": {},
     "output_type": "execute_result"
    }
   ],
   "source": [
    "a[0] #a'nn 0. indeksini göster."
   ]
  },
  {
   "cell_type": "code",
   "execution_count": 6,
   "id": "a45602ff-e72b-4e91-863a-ef7fbd917312",
   "metadata": {},
   "outputs": [
    {
     "data": {
      "text/plain": [
       "13"
      ]
     },
     "execution_count": 6,
     "metadata": {},
     "output_type": "execute_result"
    }
   ],
   "source": [
    "a[9] #a'nn 9. indeksini göster."
   ]
  },
  {
   "cell_type": "code",
   "execution_count": 7,
   "id": "9c95f5b6-1838-4bea-9acb-9b848aaa3774",
   "metadata": {},
   "outputs": [],
   "source": [
    "a[0]=9 #a'nn 0. indeksini 9 rakamı ile değiştir."
   ]
  },
  {
   "cell_type": "code",
   "execution_count": 8,
   "id": "14a0ab5f-2459-4aca-b08d-c87f398ce594",
   "metadata": {},
   "outputs": [
    {
     "data": {
      "text/plain": [
       "9"
      ]
     },
     "execution_count": 8,
     "metadata": {},
     "output_type": "execute_result"
    }
   ],
   "source": [
    "a[0] #a'nn 0. indeksini göster."
   ]
  },
  {
   "cell_type": "code",
   "execution_count": 9,
   "id": "3e9ea91c-aa0d-46f8-9c2e-4f98b2e8f02b",
   "metadata": {},
   "outputs": [
    {
     "data": {
      "text/plain": [
       "array([ 9, 15,  3,  1,  6, 15,  4, 17, 12, 13])"
      ]
     },
     "execution_count": 9,
     "metadata": {},
     "output_type": "execute_result"
    }
   ],
   "source": [
    "a #a dizisini göster."
   ]
  },
  {
   "cell_type": "markdown",
   "id": "4cc647f1-135b-4d6b-814c-958e999589c1",
   "metadata": {},
   "source": [
    "-----"
   ]
  },
  {
   "cell_type": "code",
   "execution_count": 10,
   "id": "dff95258-f84f-444a-9b6d-5139cfff3d35",
   "metadata": {},
   "outputs": [],
   "source": [
    "b = np.random.randint(12,size=(3,4))"
   ]
  },
  {
   "cell_type": "code",
   "execution_count": 11,
   "id": "40df5a20-db82-4f51-afbe-cb37338c93ac",
   "metadata": {},
   "outputs": [
    {
     "data": {
      "text/plain": [
       "array([[ 3,  0,  4, 10],\n",
       "       [ 0,  7,  6,  3],\n",
       "       [ 9, 11,  4,  5]])"
      ]
     },
     "execution_count": 11,
     "metadata": {},
     "output_type": "execute_result"
    }
   ],
   "source": [
    "b"
   ]
  },
  {
   "cell_type": "code",
   "execution_count": 13,
   "id": "b45aeb1d-7889-4885-a8b2-78900a4a8676",
   "metadata": {},
   "outputs": [
    {
     "data": {
      "text/plain": [
       "3"
      ]
     },
     "execution_count": 13,
     "metadata": {},
     "output_type": "execute_result"
    }
   ],
   "source": [
    "b[0,0]"
   ]
  },
  {
   "cell_type": "code",
   "execution_count": 15,
   "id": "124fae29-234d-4b0d-8186-1cc7f8937265",
   "metadata": {},
   "outputs": [
    {
     "data": {
      "text/plain": [
       "5"
      ]
     },
     "execution_count": 15,
     "metadata": {},
     "output_type": "execute_result"
    }
   ],
   "source": [
    "b[2,3]"
   ]
  },
  {
   "cell_type": "markdown",
   "id": "491d58ea-ad6b-4c55-b110-5f6e92887092",
   "metadata": {},
   "source": [
    "----"
   ]
  },
  {
   "cell_type": "code",
   "execution_count": 16,
   "id": "ff033d93-657b-43c1-bbdf-eda0133233ad",
   "metadata": {},
   "outputs": [],
   "source": [
    "c = np.random.randint(20,size=10)"
   ]
  },
  {
   "cell_type": "code",
   "execution_count": 17,
   "id": "4451b2e7-8c3b-401a-bb89-d9253b3abc65",
   "metadata": {},
   "outputs": [
    {
     "data": {
      "text/plain": [
       "array([16, 12, 14,  7, 19,  7,  4, 17,  0, 10])"
      ]
     },
     "execution_count": 17,
     "metadata": {},
     "output_type": "execute_result"
    }
   ],
   "source": [
    "c"
   ]
  },
  {
   "cell_type": "code",
   "execution_count": 18,
   "id": "72e3b650-c7bc-42cd-9747-ec08706fc512",
   "metadata": {},
   "outputs": [
    {
     "data": {
      "text/plain": [
       "array([16, 12])"
      ]
     },
     "execution_count": 18,
     "metadata": {},
     "output_type": "execute_result"
    }
   ],
   "source": [
    "c[0:2] # c dizisindeki sadece 0 ve 1. indeksi getirir."
   ]
  },
  {
   "cell_type": "code",
   "execution_count": 19,
   "id": "d28a1f5c-7a4c-4749-a938-69ed6fc875ef",
   "metadata": {},
   "outputs": [
    {
     "data": {
      "text/plain": [
       "array([14,  7, 19,  7,  4, 17])"
      ]
     },
     "execution_count": 19,
     "metadata": {},
     "output_type": "execute_result"
    }
   ],
   "source": [
    "c[2:8] #c dizisindeki sadece 2,3,4,5,6 ve 7. indeksi getirir."
   ]
  },
  {
   "cell_type": "code",
   "execution_count": 20,
   "id": "dc808715-6217-44df-a926-2db9af6b9eb4",
   "metadata": {},
   "outputs": [
    {
     "data": {
      "text/plain": [
       "array([16, 12, 14,  7])"
      ]
     },
     "execution_count": 20,
     "metadata": {},
     "output_type": "execute_result"
    }
   ],
   "source": [
    "c[:4] #c dizisinin baştan 3. indekse kadar olanı getirir."
   ]
  },
  {
   "cell_type": "code",
   "execution_count": 23,
   "id": "4474cad6-4256-434b-918d-15546bcf5f6c",
   "metadata": {},
   "outputs": [
    {
     "data": {
      "text/plain": [
       "array([12,  7,  7, 17, 10])"
      ]
     },
     "execution_count": 23,
     "metadata": {},
     "output_type": "execute_result"
    }
   ],
   "source": [
    "c[1::2] #1. indeksten sona kadar 2 atlayarak sonuçları getirir.(getirdiği indeksler:1,3,5,7,9)"
   ]
  },
  {
   "cell_type": "code",
   "execution_count": 24,
   "id": "0780d5a3-9051-4a91-ab7b-4f151eec9b20",
   "metadata": {},
   "outputs": [
    {
     "data": {
      "text/plain": [
       "array([16, 14, 19,  4,  0])"
      ]
     },
     "execution_count": 24,
     "metadata": {},
     "output_type": "execute_result"
    }
   ],
   "source": [
    "c[::2] #0. indeksten sona kadar 2 atlayarak sonuçları getirir.(getirdiği indeksler:0,2,4,6,8)"
   ]
  },
  {
   "cell_type": "code",
   "execution_count": 25,
   "id": "4ab4c1b7-4bfb-4f31-8da0-dd543e2d31ef",
   "metadata": {},
   "outputs": [
    {
     "data": {
      "text/plain": [
       "array([19,  7,  4, 17,  0, 10])"
      ]
     },
     "execution_count": 25,
     "metadata": {},
     "output_type": "execute_result"
    }
   ],
   "source": [
    "c[4:] #4.indeksten başlar sona kadar olan indeksleri getirir."
   ]
  },
  {
   "cell_type": "code",
   "execution_count": 28,
   "id": "6eb98bff-288e-41f5-8f8e-481fdf7947cb",
   "metadata": {},
   "outputs": [
    {
     "data": {
      "text/plain": [
       "array([16, 12, 14,  7, 19,  7,  4, 17,  0, 10])"
      ]
     },
     "execution_count": 28,
     "metadata": {},
     "output_type": "execute_result"
    }
   ],
   "source": [
    "c[::]"
   ]
  },
  {
   "cell_type": "markdown",
   "id": "6ba73e75-00f5-42a6-a068-ca9f45c0593b",
   "metadata": {},
   "source": [
    "c[::] gösterimi ile sadece c yazmanın mantığı aynı"
   ]
  },
  {
   "cell_type": "markdown",
   "id": "bf6fbc67-8b6e-47f0-81c7-64e6724aecee",
   "metadata": {},
   "source": [
    "------"
   ]
  },
  {
   "cell_type": "code",
   "execution_count": 29,
   "id": "2f8242ba-2241-4893-b41a-60379f2a68bf",
   "metadata": {},
   "outputs": [
    {
     "data": {
      "text/plain": [
       "array([[11,  4, 13, 10],\n",
       "       [ 8,  7,  1,  6],\n",
       "       [ 5, 19,  3,  4],\n",
       "       [12, 14,  0,  7],\n",
       "       [ 9, 10,  7,  4]])"
      ]
     },
     "execution_count": 29,
     "metadata": {},
     "output_type": "execute_result"
    }
   ],
   "source": [
    "d = np.random.randint(20,size=(5,4))\n",
    "d"
   ]
  },
  {
   "cell_type": "code",
   "execution_count": 30,
   "id": "25aebc3f-a91b-4e18-ae3c-3101960d8943",
   "metadata": {},
   "outputs": [
    {
     "data": {
      "text/plain": [
       "4"
      ]
     },
     "execution_count": 30,
     "metadata": {},
     "output_type": "execute_result"
    }
   ],
   "source": [
    "d[2,3] #2.satır 3.sütundaki veriyi getirir."
   ]
  },
  {
   "cell_type": "code",
   "execution_count": 31,
   "id": "8dfe7f65-54e0-48ee-a1b5-8f36bb7c2e7b",
   "metadata": {},
   "outputs": [
    {
     "data": {
      "text/plain": [
       "7"
      ]
     },
     "execution_count": 31,
     "metadata": {},
     "output_type": "execute_result"
    }
   ],
   "source": [
    "d[4,2]"
   ]
  },
  {
   "cell_type": "code",
   "execution_count": 32,
   "id": "88d7de2e-44f4-4852-b263-76ced91e1ea7",
   "metadata": {},
   "outputs": [
    {
     "data": {
      "text/plain": [
       "array([[ 8,  7,  1,  6],\n",
       "       [ 5, 19,  3,  4],\n",
       "       [12, 14,  0,  7],\n",
       "       [ 9, 10,  7,  4]])"
      ]
     },
     "execution_count": 32,
     "metadata": {},
     "output_type": "execute_result"
    }
   ],
   "source": [
    "d[1:] #1. satırdan en son satıra kadar ve sütunları getirir."
   ]
  },
  {
   "cell_type": "markdown",
   "id": "7f421a9e-f65e-4868-8f09-7d6bd2e9e650",
   "metadata": {},
   "source": [
    "1:4,2:3 VİRGÜLE KADAR OLAN İLK KISIM SATIRLARI VİRGÜLDEN SONRAKİ KISIM SÜTUNLARI İFADE EDER."
   ]
  },
  {
   "cell_type": "code",
   "execution_count": 33,
   "id": "61dbfdc2-ae35-44f7-b1a3-c707e0ca3618",
   "metadata": {},
   "outputs": [
    {
     "data": {
      "text/plain": [
       "array([8, 7, 1, 6])"
      ]
     },
     "execution_count": 33,
     "metadata": {},
     "output_type": "execute_result"
    }
   ],
   "source": [
    "d[1,:] #1.satır ve tüm sütunları getirir."
   ]
  },
  {
   "cell_type": "code",
   "execution_count": 35,
   "id": "a56b917c-64c9-436d-8678-8e5135ddc8af",
   "metadata": {},
   "outputs": [
    {
     "data": {
      "text/plain": [
       "array([ 5, 19,  3])"
      ]
     },
     "execution_count": 35,
     "metadata": {},
     "output_type": "execute_result"
    }
   ],
   "source": [
    "d[2,:3] #2. satır 2.sütuna kadar olan verileri getirir."
   ]
  },
  {
   "cell_type": "code",
   "execution_count": 36,
   "id": "7fa52893-cce2-491e-8d03-979a4ca78dc6",
   "metadata": {},
   "outputs": [
    {
     "data": {
      "text/plain": [
       "array([13,  1,  3,  0,  7])"
      ]
     },
     "execution_count": 36,
     "metadata": {},
     "output_type": "execute_result"
    }
   ],
   "source": [
    "d[:,2] #2.sütun ve tüm satırlardaki verileri getirir."
   ]
  },
  {
   "cell_type": "code",
   "execution_count": 37,
   "id": "6fa89363-5feb-40dc-aa9e-8177e62c263a",
   "metadata": {},
   "outputs": [
    {
     "data": {
      "text/plain": [
       "array([[12, 14,  0],\n",
       "       [ 9, 10,  7]])"
      ]
     },
     "execution_count": 37,
     "metadata": {},
     "output_type": "execute_result"
    }
   ],
   "source": [
    "d[3:,:3] #3. satırdan son satıra kadar olanı getir ve sütunlardanda 2.sütuna kadar olanı getir."
   ]
  },
  {
   "cell_type": "code",
   "execution_count": 38,
   "id": "eee96687-7d4a-484c-91b8-f1141239feab",
   "metadata": {},
   "outputs": [
    {
     "data": {
      "text/plain": [
       "array([[11,  4, 13, 10],\n",
       "       [ 8,  7,  1,  6],\n",
       "       [ 5, 19,  3,  4],\n",
       "       [12, 14,  0,  7],\n",
       "       [ 9, 10,  7,  4]])"
      ]
     },
     "execution_count": 38,
     "metadata": {},
     "output_type": "execute_result"
    }
   ],
   "source": [
    "d"
   ]
  },
  {
   "cell_type": "code",
   "execution_count": 41,
   "id": "07211de0-2d1b-44fb-83dc-7c2305846860",
   "metadata": {},
   "outputs": [
    {
     "data": {
      "text/plain": [
       "array([[1, 6],\n",
       "       [3, 4]])"
      ]
     },
     "execution_count": 41,
     "metadata": {},
     "output_type": "execute_result"
    }
   ],
   "source": [
    "d[1:3,2:] #1.satırdan 2'ye kadar, 2.sütundan sona kadar olan verileri getirir."
   ]
  },
  {
   "cell_type": "code",
   "execution_count": 43,
   "id": "dec7cb2f-de0c-4127-9187-f497ca0b42ba",
   "metadata": {},
   "outputs": [
    {
     "data": {
      "text/plain": [
       "array([[14,  0],\n",
       "       [10,  7]])"
      ]
     },
     "execution_count": 43,
     "metadata": {},
     "output_type": "execute_result"
    }
   ],
   "source": [
    "d[3:,1:3]"
   ]
  },
  {
   "cell_type": "code",
   "execution_count": 46,
   "id": "f643484c-4dd8-4d3d-be2b-992f848132dc",
   "metadata": {},
   "outputs": [
    {
     "data": {
      "text/plain": [
       "array([[19]])"
      ]
     },
     "execution_count": 46,
     "metadata": {},
     "output_type": "execute_result"
    }
   ],
   "source": [
    "d[2:3,1:2]"
   ]
  },
  {
   "cell_type": "code",
   "execution_count": 48,
   "id": "0aaba515-dbe4-4cb9-ac85-67f9aac80add",
   "metadata": {},
   "outputs": [
    {
     "data": {
      "text/plain": [
       "19"
      ]
     },
     "execution_count": 48,
     "metadata": {},
     "output_type": "execute_result"
    }
   ],
   "source": [
    "d[2,1]"
   ]
  }
 ],
 "metadata": {
  "kernelspec": {
   "display_name": "Python 3 (ipykernel)",
   "language": "python",
   "name": "python3"
  },
  "language_info": {
   "codemirror_mode": {
    "name": "ipython",
    "version": 3
   },
   "file_extension": ".py",
   "mimetype": "text/x-python",
   "name": "python",
   "nbconvert_exporter": "python",
   "pygments_lexer": "ipython3",
   "version": "3.11.7"
  }
 },
 "nbformat": 4,
 "nbformat_minor": 5
}
