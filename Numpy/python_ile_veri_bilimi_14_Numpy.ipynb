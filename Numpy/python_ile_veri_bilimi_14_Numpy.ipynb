{
 "cells": [
  {
   "cell_type": "code",
   "execution_count": 2,
   "id": "f9591443-af4d-4265-806f-acaee7fcfed5",
   "metadata": {},
   "outputs": [],
   "source": [
    "import numpy as np"
   ]
  },
  {
   "cell_type": "code",
   "execution_count": 11,
   "id": "b1924b4e-ce17-4eac-8392-d1ec654a6b11",
   "metadata": {},
   "outputs": [
    {
     "data": {
      "text/plain": [
       "array([27, 16,  6, 20, 15, 15, 12,  9, 26, 20])"
      ]
     },
     "execution_count": 11,
     "metadata": {},
     "output_type": "execute_result"
    }
   ],
   "source": [
    "a = np.random.randint(1,30,10)\n",
    "a"
   ]
  },
  {
   "cell_type": "code",
   "execution_count": 12,
   "id": "987929a4-2327-4682-9fee-e99982198cb6",
   "metadata": {},
   "outputs": [
    {
     "data": {
      "text/plain": [
       "27"
      ]
     },
     "execution_count": 12,
     "metadata": {},
     "output_type": "execute_result"
    }
   ],
   "source": [
    "max(a)"
   ]
  },
  {
   "cell_type": "code",
   "execution_count": 13,
   "id": "ddff9cce-d035-44aa-9e82-589f8eb3e4a3",
   "metadata": {},
   "outputs": [
    {
     "data": {
      "text/plain": [
       "6"
      ]
     },
     "execution_count": 13,
     "metadata": {},
     "output_type": "execute_result"
    }
   ],
   "source": [
    "min(a)"
   ]
  },
  {
   "cell_type": "code",
   "execution_count": 14,
   "id": "7fd0e3b8-6755-4c7a-9afc-4d27ea688edb",
   "metadata": {},
   "outputs": [
    {
     "data": {
      "text/plain": [
       "0"
      ]
     },
     "execution_count": 14,
     "metadata": {},
     "output_type": "execute_result"
    }
   ],
   "source": [
    "np.argmax(a) #en büyük sayı kaçıncı indekste olduğunu gösterir."
   ]
  },
  {
   "cell_type": "code",
   "execution_count": 15,
   "id": "12d7651f-440f-4833-98f8-0639e9f2b562",
   "metadata": {},
   "outputs": [
    {
     "data": {
      "text/plain": [
       "2"
      ]
     },
     "execution_count": 15,
     "metadata": {},
     "output_type": "execute_result"
    }
   ],
   "source": [
    "np.argmin(a) #en küçük sayı kaçıncı indekste olduğunu gösterir."
   ]
  },
  {
   "cell_type": "code",
   "execution_count": 16,
   "id": "7a3fdef3-3556-48d4-a00b-8340f78540ef",
   "metadata": {},
   "outputs": [
    {
     "data": {
      "text/plain": [
       "166"
      ]
     },
     "execution_count": 16,
     "metadata": {},
     "output_type": "execute_result"
    }
   ],
   "source": [
    "sum(a) #dizideki verilerin toplamı"
   ]
  },
  {
   "cell_type": "markdown",
   "id": "f931597e-13a2-4a12-a6d2-c8fa244eb226",
   "metadata": {},
   "source": [
    "---"
   ]
  },
  {
   "cell_type": "code",
   "execution_count": 48,
   "id": "96aa2099-1955-4b2d-aaab-11fed39454bf",
   "metadata": {},
   "outputs": [
    {
     "data": {
      "text/plain": [
       "array([[22,  8, 25,  8],\n",
       "       [26, 12, 18,  7],\n",
       "       [ 8, 10,  2,  1],\n",
       "       [15,  5,  5, 25],\n",
       "       [28, 26,  6,  9]])"
      ]
     },
     "execution_count": 48,
     "metadata": {},
     "output_type": "execute_result"
    }
   ],
   "source": [
    "b = np.random.randint(1,30,[5,4])\n",
    "b"
   ]
  },
  {
   "cell_type": "code",
   "execution_count": 49,
   "id": "758d7e52-7028-4f67-a751-4635a1f87c8e",
   "metadata": {},
   "outputs": [
    {
     "data": {
      "text/plain": [
       "array([99, 61, 56, 50])"
      ]
     },
     "execution_count": 49,
     "metadata": {},
     "output_type": "execute_result"
    }
   ],
   "source": [
    "sum(b) #sütunları baz alarak toplama işlemi gerçekleştirdim."
   ]
  },
  {
   "cell_type": "code",
   "execution_count": 50,
   "id": "313492c1-5129-4e05-b30f-a9d57f56dbec",
   "metadata": {},
   "outputs": [
    {
     "data": {
      "text/plain": [
       "array([99, 61, 56, 50])"
      ]
     },
     "execution_count": 50,
     "metadata": {},
     "output_type": "execute_result"
    }
   ],
   "source": [
    "b.sum(axis = 0) #sütunları baz alarak toplama işlemi gerçekleştirdim."
   ]
  },
  {
   "cell_type": "code",
   "execution_count": 51,
   "id": "25746257-ac67-4f47-8b89-a38d790d0b9a",
   "metadata": {},
   "outputs": [
    {
     "data": {
      "text/plain": [
       "array([63, 63, 21, 50, 69])"
      ]
     },
     "execution_count": 51,
     "metadata": {},
     "output_type": "execute_result"
    }
   ],
   "source": [
    " b.sum(axis=1) #satırları baz alarak toplama işlemi gerçekleştirdim."
   ]
  },
  {
   "cell_type": "code",
   "execution_count": 52,
   "id": "77bcbe5a-7544-49b8-9c28-2f7e11e50ef2",
   "metadata": {},
   "outputs": [
    {
     "data": {
      "text/plain": [
       "266"
      ]
     },
     "execution_count": 52,
     "metadata": {},
     "output_type": "execute_result"
    }
   ],
   "source": [
    "b.sum().sum() #tüm satır ve sütunların toplamını yaptırdım."
   ]
  },
  {
   "cell_type": "code",
   "execution_count": 53,
   "id": "41b98f6b-a03e-48ec-9c27-fdb7a0f93418",
   "metadata": {},
   "outputs": [
    {
     "data": {
      "text/plain": [
       "13.3"
      ]
     },
     "execution_count": 53,
     "metadata": {},
     "output_type": "execute_result"
    }
   ],
   "source": [
    "b.mean() #verilerin ortalamasını aldırdım."
   ]
  },
  {
   "cell_type": "code",
   "execution_count": 54,
   "id": "c3e5fb5b-1d80-44a9-a1c2-97450138127a",
   "metadata": {},
   "outputs": [
    {
     "data": {
      "text/plain": [
       "9.5"
      ]
     },
     "execution_count": 54,
     "metadata": {},
     "output_type": "execute_result"
    }
   ],
   "source": [
    "np.median(b) #verilerin ortadaki 2 sayıyı seçip toplayıp ve 2 ye böler."
   ]
  },
  {
   "cell_type": "code",
   "execution_count": 55,
   "id": "00face79-7a60-49b3-b336-04ec54a63edd",
   "metadata": {},
   "outputs": [
    {
     "data": {
      "text/plain": [
       "8.769834662067467"
      ]
     },
     "execution_count": 55,
     "metadata": {},
     "output_type": "execute_result"
    }
   ],
   "source": [
    "b.std() #standart sapmasını verir."
   ]
  }
 ],
 "metadata": {
  "kernelspec": {
   "display_name": "Python 3 (ipykernel)",
   "language": "python",
   "name": "python3"
  },
  "language_info": {
   "codemirror_mode": {
    "name": "ipython",
    "version": 3
   },
   "file_extension": ".py",
   "mimetype": "text/x-python",
   "name": "python",
   "nbconvert_exporter": "python",
   "pygments_lexer": "ipython3",
   "version": "3.11.7"
  }
 },
 "nbformat": 4,
 "nbformat_minor": 5
}
