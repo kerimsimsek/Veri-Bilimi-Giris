{
 "cells": [
  {
   "cell_type": "code",
   "execution_count": 1,
   "id": "f9591443-af4d-4265-806f-acaee7fcfed5",
   "metadata": {},
   "outputs": [],
   "source": [
    "import numpy as np"
   ]
  },
  {
   "cell_type": "code",
   "execution_count": 2,
   "id": "2b950386-e1c6-4e11-8676-ffa7ab55b074",
   "metadata": {},
   "outputs": [],
   "source": [
    "a =[1,2,3,4,5,6,7]"
   ]
  },
  {
   "cell_type": "code",
   "execution_count": 3,
   "id": "9e4d711f-97e2-4962-940b-41086d7b60d3",
   "metadata": {},
   "outputs": [],
   "source": [
    "b = a"
   ]
  },
  {
   "cell_type": "code",
   "execution_count": 4,
   "id": "c81ff74b-a6bb-4aba-ad9f-f1093d78a86b",
   "metadata": {},
   "outputs": [
    {
     "data": {
      "text/plain": [
       "[1, 2, 3, 4, 5, 6, 7]"
      ]
     },
     "execution_count": 4,
     "metadata": {},
     "output_type": "execute_result"
    }
   ],
   "source": [
    "b"
   ]
  },
  {
   "cell_type": "code",
   "execution_count": 5,
   "id": "8520ad3f-7645-414d-a421-8597bb64138b",
   "metadata": {},
   "outputs": [
    {
     "data": {
      "text/plain": [
       "1"
      ]
     },
     "execution_count": 5,
     "metadata": {},
     "output_type": "execute_result"
    }
   ],
   "source": [
    "b[0]"
   ]
  },
  {
   "cell_type": "code",
   "execution_count": 6,
   "id": "9458cdad-a6ee-4e19-94dd-061a7bd6acb8",
   "metadata": {},
   "outputs": [],
   "source": [
    "b[0]=9"
   ]
  },
  {
   "cell_type": "code",
   "execution_count": 7,
   "id": "ebdeedbc-e8c0-49af-9203-f7988d04841c",
   "metadata": {},
   "outputs": [
    {
     "data": {
      "text/plain": [
       "[9, 2, 3, 4, 5, 6, 7]"
      ]
     },
     "execution_count": 7,
     "metadata": {},
     "output_type": "execute_result"
    }
   ],
   "source": [
    "b"
   ]
  },
  {
   "cell_type": "markdown",
   "id": "6a1f0ad2-3b71-456a-93ac-edf1dc1f40fe",
   "metadata": {},
   "source": [
    "----"
   ]
  },
  {
   "cell_type": "code",
   "execution_count": 8,
   "id": "8440ea97-a972-4938-b7a4-9bcfdc9ecd9f",
   "metadata": {},
   "outputs": [
    {
     "data": {
      "text/plain": [
       "array([1, 2, 3, 4, 5])"
      ]
     },
     "execution_count": 8,
     "metadata": {},
     "output_type": "execute_result"
    }
   ],
   "source": [
    "x =np.arange(1,6)\n",
    "x"
   ]
  },
  {
   "cell_type": "code",
   "execution_count": 9,
   "id": "b681b887-ad22-46ed-b19d-f6f9ede878fc",
   "metadata": {},
   "outputs": [],
   "source": [
    "y = x"
   ]
  },
  {
   "cell_type": "code",
   "execution_count": 10,
   "id": "c8e6ef28-2339-4223-8b3f-2fff9f033036",
   "metadata": {},
   "outputs": [
    {
     "data": {
      "text/plain": [
       "1"
      ]
     },
     "execution_count": 10,
     "metadata": {},
     "output_type": "execute_result"
    }
   ],
   "source": [
    "y[0]"
   ]
  },
  {
   "cell_type": "code",
   "execution_count": 11,
   "id": "5bf13e89-dd64-4c3c-a9da-56a44a1a3337",
   "metadata": {},
   "outputs": [],
   "source": [
    "y[0]=8"
   ]
  },
  {
   "cell_type": "code",
   "execution_count": 12,
   "id": "70ddaa39-2afd-4dd6-8574-e37f60b70dc0",
   "metadata": {},
   "outputs": [
    {
     "data": {
      "text/plain": [
       "array([8, 2, 3, 4, 5])"
      ]
     },
     "execution_count": 12,
     "metadata": {},
     "output_type": "execute_result"
    }
   ],
   "source": [
    "y"
   ]
  },
  {
   "cell_type": "code",
   "execution_count": 18,
   "id": "3aa71033-5dac-4c42-9ec4-9e6c2f4f6013",
   "metadata": {},
   "outputs": [],
   "source": [
    "z = np.copy(x) #x dizisini kopyalayıp z değişkenine attım."
   ]
  },
  {
   "cell_type": "code",
   "execution_count": 19,
   "id": "a74078ca-78b5-4143-a001-7654c50b5e64",
   "metadata": {},
   "outputs": [
    {
     "data": {
      "text/plain": [
       "array([8, 2, 3, 4, 5])"
      ]
     },
     "execution_count": 19,
     "metadata": {},
     "output_type": "execute_result"
    }
   ],
   "source": [
    "z"
   ]
  },
  {
   "cell_type": "code",
   "execution_count": 20,
   "id": "2b74b7e5-e218-4845-90c2-092127915eb3",
   "metadata": {},
   "outputs": [],
   "source": [
    "z[0]=1"
   ]
  },
  {
   "cell_type": "code",
   "execution_count": 21,
   "id": "66859568-3076-46c4-b6d9-b1f52d4c5e7e",
   "metadata": {},
   "outputs": [
    {
     "data": {
      "text/plain": [
       "array([1, 2, 3, 4, 5])"
      ]
     },
     "execution_count": 21,
     "metadata": {},
     "output_type": "execute_result"
    }
   ],
   "source": [
    "z"
   ]
  },
  {
   "cell_type": "code",
   "execution_count": 22,
   "id": "9c118d0a-b5db-4b19-9ca9-2556e861381a",
   "metadata": {},
   "outputs": [
    {
     "data": {
      "text/plain": [
       "array([8, 2, 3, 4, 5])"
      ]
     },
     "execution_count": 22,
     "metadata": {},
     "output_type": "execute_result"
    }
   ],
   "source": [
    "x"
   ]
  }
 ],
 "metadata": {
  "kernelspec": {
   "display_name": "Python 3 (ipykernel)",
   "language": "python",
   "name": "python3"
  },
  "language_info": {
   "codemirror_mode": {
    "name": "ipython",
    "version": 3
   },
   "file_extension": ".py",
   "mimetype": "text/x-python",
   "name": "python",
   "nbconvert_exporter": "python",
   "pygments_lexer": "ipython3",
   "version": "3.11.7"
  }
 },
 "nbformat": 4,
 "nbformat_minor": 5
}
