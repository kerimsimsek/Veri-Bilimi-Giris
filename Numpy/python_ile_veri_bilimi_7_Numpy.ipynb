{
 "cells": [
  {
   "cell_type": "code",
   "execution_count": 1,
   "id": "a8fcb9e4-7904-4cb1-ab51-b963faf88168",
   "metadata": {},
   "outputs": [],
   "source": [
    "import numpy as np"
   ]
  },
  {
   "cell_type": "code",
   "execution_count": 5,
   "id": "ffd27e5f-a83a-4dae-b489-530d4a10ebea",
   "metadata": {},
   "outputs": [],
   "source": [
    "a = np.array([1,2,3,4])\n",
    "b = np.array([5,6,7,8])"
   ]
  },
  {
   "cell_type": "code",
   "execution_count": 6,
   "id": "e1a63dfd-0a2f-42d3-bb2e-89091799c3f6",
   "metadata": {},
   "outputs": [
    {
     "data": {
      "text/plain": [
       "array([1, 2, 3, 4, 5, 6, 7, 8])"
      ]
     },
     "execution_count": 6,
     "metadata": {},
     "output_type": "execute_result"
    }
   ],
   "source": [
    "np.concatenate([a,b]) #iki farlı diziyi birleştirdim."
   ]
  },
  {
   "cell_type": "markdown",
   "id": "a9c7e425-d3c1-48d8-8e60-6636333e3372",
   "metadata": {},
   "source": [
    "X VE Y OLMAK ÜZERE İKİ TANE MATRİX DEĞİŞKENİ TANIMLADIM. VE BUNLARI BİRLEŞTİRDİM. NOT: CONCATENATE KOMUTU X VE Y DEĞİŞKENİN VERİLERİ EŞİT MİKTARDA OLDUĞU İÇİN ÇALIŞTI.EĞER EŞİTSİZLİK OLURSA ÇALIŞMAZ."
   ]
  },
  {
   "cell_type": "code",
   "execution_count": 8,
   "id": "4b5f5061-a752-4ddf-a2d6-d7a33f0868a0",
   "metadata": {},
   "outputs": [],
   "source": [
    "x = np.array(([1,2,3],[4,5,6],[7,8,9]))"
   ]
  },
  {
   "cell_type": "code",
   "execution_count": 9,
   "id": "c281303e-9949-4938-9da6-1ce6b0c367a4",
   "metadata": {},
   "outputs": [
    {
     "data": {
      "text/plain": [
       "array([[1, 2, 3],\n",
       "       [4, 5, 6],\n",
       "       [7, 8, 9]])"
      ]
     },
     "execution_count": 9,
     "metadata": {},
     "output_type": "execute_result"
    }
   ],
   "source": [
    "x"
   ]
  },
  {
   "cell_type": "code",
   "execution_count": 10,
   "id": "f4541881-2d71-4e62-a432-24431b2cf746",
   "metadata": {},
   "outputs": [
    {
     "data": {
      "text/plain": [
       "array([[10, 11, 12],\n",
       "       [13, 14, 15],\n",
       "       [16, 17, 18]])"
      ]
     },
     "execution_count": 10,
     "metadata": {},
     "output_type": "execute_result"
    }
   ],
   "source": [
    "y = np.array(([10,11,12],[13,14,15],[16,17,18]))\n",
    "y"
   ]
  },
  {
   "cell_type": "code",
   "execution_count": 11,
   "id": "529e771f-b45b-4a09-8f68-e6178be351b6",
   "metadata": {},
   "outputs": [
    {
     "data": {
      "text/plain": [
       "array([[ 1,  2,  3],\n",
       "       [ 4,  5,  6],\n",
       "       [ 7,  8,  9],\n",
       "       [10, 11, 12],\n",
       "       [13, 14, 15],\n",
       "       [16, 17, 18]])"
      ]
     },
     "execution_count": 11,
     "metadata": {},
     "output_type": "execute_result"
    }
   ],
   "source": [
    "np.concatenate([x,y])"
   ]
  },
  {
   "cell_type": "code",
   "execution_count": 14,
   "id": "ba78b8c6-5baa-407f-b653-becebba80192",
   "metadata": {},
   "outputs": [
    {
     "data": {
      "text/plain": [
       "array([[ 1,  2,  3],\n",
       "       [ 4,  5,  6],\n",
       "       [ 7,  8,  9],\n",
       "       [10, 11, 12],\n",
       "       [13, 14, 15],\n",
       "       [16, 17, 18]])"
      ]
     },
     "execution_count": 14,
     "metadata": {},
     "output_type": "execute_result"
    }
   ],
   "source": [
    "np.concatenate([x,y],axis=0)"
   ]
  },
  {
   "cell_type": "code",
   "execution_count": 15,
   "id": "6394b741-ad1d-4859-b8c4-d206eb7e81d1",
   "metadata": {},
   "outputs": [
    {
     "data": {
      "text/plain": [
       "array([[ 1,  2,  3, 10, 11, 12],\n",
       "       [ 4,  5,  6, 13, 14, 15],\n",
       "       [ 7,  8,  9, 16, 17, 18]])"
      ]
     },
     "execution_count": 15,
     "metadata": {},
     "output_type": "execute_result"
    }
   ],
   "source": [
    "np.concatenate([x,y],axis=1)"
   ]
  },
  {
   "cell_type": "code",
   "execution_count": 27,
   "id": "97be6aea-b18c-410e-b039-8e36890d7db7",
   "metadata": {},
   "outputs": [
    {
     "data": {
      "text/plain": [
       "array([[ 1,  4,  7,  2,  5,  8,  3,  6,  9],\n",
       "       [10, 13, 16, 11, 14, 17, 12, 15, 18],\n",
       "       [19, 22, 25, 20, 23, 26, 21, 24, 27]])"
      ]
     },
     "execution_count": 27,
     "metadata": {},
     "output_type": "execute_result"
    }
   ],
   "source": [
    "m = np.array(([1,4,7],[10,13,16],[19,22,25]))\n",
    "n = np.array(([2,5,8],[11,14,17],[20,23,26]))\n",
    "z = np.array(([3,6,9],[12,15,18],[21,24,27]))\n",
    "np.concatenate([m,n,z],axis=1) # axis 1'in anlamı bunları alt alta değil yan yana birleştirerek göster demek."
   ]
  },
  {
   "cell_type": "markdown",
   "id": "40c80e8d-d49d-401f-9e2d-b4dd8f932668",
   "metadata": {},
   "source": [
    "DİZİ BOYUTU EŞİT OLMADIĞI İÇİN ÇALIŞMIYOR YANİ ÇOK DA KULLANIŞLI BİR KOMUT DEĞİL."
   ]
  },
  {
   "cell_type": "code",
   "execution_count": 19,
   "id": "c02ab67c-9ad9-4934-ab82-d676cb8982ce",
   "metadata": {},
   "outputs": [
    {
     "data": {
      "text/plain": [
       "array([[1, 2, 3],\n",
       "       [4, 5, 6],\n",
       "       [7, 8, 9],\n",
       "       [1, 2, 4]])"
      ]
     },
     "execution_count": 19,
     "metadata": {},
     "output_type": "execute_result"
    }
   ],
   "source": [
    "d = np.array(([1,2,3],[4,5,6]))\n",
    "e = np.array(([7,8,9],[1,2,4]))\n",
    "np.concatenate([d,e])"
   ]
  },
  {
   "cell_type": "code",
   "execution_count": 21,
   "id": "2bcaa82f-94d8-422d-829b-03fc1ecf327b",
   "metadata": {},
   "outputs": [
    {
     "ename": "ValueError",
     "evalue": "all the input arrays must have same number of dimensions, but the array at index 0 has 2 dimension(s) and the array at index 1 has 1 dimension(s)",
     "output_type": "error",
     "traceback": [
      "\u001b[1;31m---------------------------------------------------------------------------\u001b[0m",
      "\u001b[1;31mValueError\u001b[0m                                Traceback (most recent call last)",
      "Cell \u001b[1;32mIn[21], line 3\u001b[0m\n\u001b[0;32m      1\u001b[0m d \u001b[38;5;241m=\u001b[39m np\u001b[38;5;241m.\u001b[39marray(([\u001b[38;5;241m1\u001b[39m,\u001b[38;5;241m2\u001b[39m,\u001b[38;5;241m3\u001b[39m],[\u001b[38;5;241m4\u001b[39m,\u001b[38;5;241m5\u001b[39m,\u001b[38;5;241m6\u001b[39m]))\n\u001b[0;32m      2\u001b[0m e \u001b[38;5;241m=\u001b[39m np\u001b[38;5;241m.\u001b[39marray([\u001b[38;5;241m7\u001b[39m,\u001b[38;5;241m8\u001b[39m,\u001b[38;5;241m9\u001b[39m])\n\u001b[1;32m----> 3\u001b[0m np\u001b[38;5;241m.\u001b[39mconcatenate([d,e])\n",
      "\u001b[1;31mValueError\u001b[0m: all the input arrays must have same number of dimensions, but the array at index 0 has 2 dimension(s) and the array at index 1 has 1 dimension(s)"
     ]
    }
   ],
   "source": [
    "d = np.array(([1,2,3],[4,5,6]))\n",
    "e = np.array([7,8,9])\n",
    "np.concatenate([d,e])"
   ]
  },
  {
   "cell_type": "markdown",
   "id": "dbd3dc79-1636-4190-9283-1dea720ce939",
   "metadata": {},
   "source": [
    "DEVAMI PYTHON İLE VERİ BİLİMİ 8'DE"
   ]
  }
 ],
 "metadata": {
  "kernelspec": {
   "display_name": "Python 3 (ipykernel)",
   "language": "python",
   "name": "python3"
  },
  "language_info": {
   "codemirror_mode": {
    "name": "ipython",
    "version": 3
   },
   "file_extension": ".py",
   "mimetype": "text/x-python",
   "name": "python",
   "nbconvert_exporter": "python",
   "pygments_lexer": "ipython3",
   "version": "3.11.7"
  }
 },
 "nbformat": 4,
 "nbformat_minor": 5
}
