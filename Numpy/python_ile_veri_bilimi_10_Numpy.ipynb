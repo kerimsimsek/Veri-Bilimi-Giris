{
 "cells": [
  {
   "cell_type": "code",
   "execution_count": 1,
   "id": "b113fab1-b3ef-4618-ac4e-04406edb37c9",
   "metadata": {},
   "outputs": [],
   "source": [
    "import numpy as np"
   ]
  },
  {
   "cell_type": "code",
   "execution_count": 2,
   "id": "2e8ac764-0bfb-456b-9694-e8d142fab326",
   "metadata": {},
   "outputs": [],
   "source": [
    "a = np.random.randint(0,15,5)"
   ]
  },
  {
   "cell_type": "code",
   "execution_count": 3,
   "id": "dca20823-4baf-4344-b215-605e52fd5eff",
   "metadata": {},
   "outputs": [
    {
     "data": {
      "text/plain": [
       "array([ 8, 13,  1,  6,  4])"
      ]
     },
     "execution_count": 3,
     "metadata": {},
     "output_type": "execute_result"
    }
   ],
   "source": [
    "a"
   ]
  },
  {
   "cell_type": "code",
   "execution_count": 4,
   "id": "0bcf1231-82d0-43ba-879d-1e7f3b4363f7",
   "metadata": {},
   "outputs": [
    {
     "data": {
      "text/plain": [
       "array([ 1,  4,  6,  8, 13])"
      ]
     },
     "execution_count": 4,
     "metadata": {},
     "output_type": "execute_result"
    }
   ],
   "source": [
    "np.sort(a) # sort komutu ile küçüken büyüğe sıraladım."
   ]
  },
  {
   "cell_type": "code",
   "execution_count": 5,
   "id": "cba33af2-83e0-46aa-afb8-92c6a98272aa",
   "metadata": {},
   "outputs": [
    {
     "data": {
      "text/plain": [
       "array([ 8, 13,  1,  6,  4])"
      ]
     },
     "execution_count": 5,
     "metadata": {},
     "output_type": "execute_result"
    }
   ],
   "source": [
    "a #göründüğü üzere bir değişkene atmadığımız için hafızaya atmadı."
   ]
  },
  {
   "cell_type": "code",
   "execution_count": 6,
   "id": "22a8af9f-8eb8-4ec6-a3d1-e62cbdb5fbc4",
   "metadata": {},
   "outputs": [],
   "source": [
    "a = np.sort(a)"
   ]
  },
  {
   "cell_type": "code",
   "execution_count": 7,
   "id": "b93ae4f5-ebb4-47dc-927c-3d88920a783d",
   "metadata": {},
   "outputs": [
    {
     "data": {
      "text/plain": [
       "array([ 1,  4,  6,  8, 13])"
      ]
     },
     "execution_count": 7,
     "metadata": {},
     "output_type": "execute_result"
    }
   ],
   "source": [
    "a"
   ]
  },
  {
   "cell_type": "markdown",
   "id": "eec03bcf-0ddb-4213-87b2-3d6e5c578edf",
   "metadata": {},
   "source": [
    "--------------------------------------------"
   ]
  },
  {
   "cell_type": "code",
   "execution_count": 28,
   "id": "6bc7c172-f4ff-4262-94ec-27b3175ee77c",
   "metadata": {},
   "outputs": [],
   "source": [
    "b = np.random.randint(0,20,5)"
   ]
  },
  {
   "cell_type": "code",
   "execution_count": 29,
   "id": "4cc11116-115a-4c69-abe8-5ae53bf5f686",
   "metadata": {},
   "outputs": [
    {
     "data": {
      "text/plain": [
       "array([ 4,  2,  2, 11,  4])"
      ]
     },
     "execution_count": 29,
     "metadata": {},
     "output_type": "execute_result"
    }
   ],
   "source": [
    "b"
   ]
  },
  {
   "cell_type": "code",
   "execution_count": 30,
   "id": "2a07014a-e636-4f21-93b9-9ea0a404d85d",
   "metadata": {},
   "outputs": [],
   "source": [
    "c = np.argsort(b)"
   ]
  },
  {
   "cell_type": "code",
   "execution_count": 31,
   "id": "dc9b05ab-728c-4c79-a9c8-663cf961d17d",
   "metadata": {},
   "outputs": [
    {
     "data": {
      "text/plain": [
       "array([1, 2, 0, 4, 3], dtype=int64)"
      ]
     },
     "execution_count": 31,
     "metadata": {},
     "output_type": "execute_result"
    }
   ],
   "source": [
    "c"
   ]
  },
  {
   "cell_type": "code",
   "execution_count": 32,
   "id": "2cfd7e7f-7f9c-48cf-ba49-4bb38c224949",
   "metadata": {},
   "outputs": [
    {
     "data": {
      "text/plain": [
       "array([ 2,  2,  4,  4, 11])"
      ]
     },
     "execution_count": 32,
     "metadata": {},
     "output_type": "execute_result"
    }
   ],
   "source": [
    "np.sort(b)"
   ]
  },
  {
   "cell_type": "markdown",
   "id": "8eda2aa1-1e0d-406f-bb69-8f4c7b9b0941",
   "metadata": {
    "jp-MarkdownHeadingCollapsed": true
   },
   "source": [
    "ARGSHORT VERİNİN KAÇINCI İNDEX'TE OLDUĞUNU GÖSTERİR. SHORT KOMUTU İLE VERİYİ KÜÇÜKTEN BÜYÜĞE SIRALATIP KAÇINCI İNDEKSTE OLDUĞUNU KONTROL ETTİM. YANİ\n",
    "\n",
    "2'NİN BULUNDUĞU İNDEKS 1\n",
    "2'NİN BULUNDUĞU İNDEKS 2\n",
    "4'ÜN BULUNDUĞU İNDEKS 0\n",
    "4'ÜN BULUNDUĞU İNDEKS 4\n",
    "11'İN BULUNDUĞU İNDEKS 3\n",
    "\n",
    "ARRAY(4,2,2,11,4) İNDEKS OLARAK (0,1,2,3,4)\n",
    "\n",
    "BU ŞEKİLDE KONTROL ETMİŞ OLDUM."
   ]
  }
 ],
 "metadata": {
  "kernelspec": {
   "display_name": "Python 3 (ipykernel)",
   "language": "python",
   "name": "python3"
  },
  "language_info": {
   "codemirror_mode": {
    "name": "ipython",
    "version": 3
   },
   "file_extension": ".py",
   "mimetype": "text/x-python",
   "name": "python",
   "nbconvert_exporter": "python",
   "pygments_lexer": "ipython3",
   "version": "3.11.7"
  }
 },
 "nbformat": 4,
 "nbformat_minor": 5
}
