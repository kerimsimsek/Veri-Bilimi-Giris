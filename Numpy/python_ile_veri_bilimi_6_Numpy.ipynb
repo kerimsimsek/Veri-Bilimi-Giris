{
 "cells": [
  {
   "cell_type": "code",
   "execution_count": 1,
   "id": "365ac7ed-10db-4569-938b-fea30f391fba",
   "metadata": {},
   "outputs": [],
   "source": [
    "import numpy as np"
   ]
  },
  {
   "cell_type": "code",
   "execution_count": 9,
   "id": "9846b89a-a835-441a-bf1d-66ce197d07ff",
   "metadata": {},
   "outputs": [
    {
     "data": {
      "text/plain": [
       "array([1, 2, 3, 4, 5, 6, 7, 8, 9])"
      ]
     },
     "execution_count": 9,
     "metadata": {},
     "output_type": "execute_result"
    }
   ],
   "source": [
    "a = np.arange(1,10)\n",
    "a"
   ]
  },
  {
   "cell_type": "code",
   "execution_count": 11,
   "id": "89e59e81-d110-4594-b827-167439d201d8",
   "metadata": {},
   "outputs": [
    {
     "data": {
      "text/plain": [
       "array([[1, 2, 3],\n",
       "       [4, 5, 6],\n",
       "       [7, 8, 9]])"
      ]
     },
     "execution_count": 11,
     "metadata": {},
     "output_type": "execute_result"
    }
   ],
   "source": [
    "a = np.arange(1,10).reshape(3,3)\n",
    "a"
   ]
  },
  {
   "cell_type": "markdown",
   "id": "957d55c0-ae97-4dd0-83d5-8ade899e3e06",
   "metadata": {},
   "source": [
    "YUKARIDAKİ KOD UZUN HALİ ALTTAKİ KOD KISA HALİ MANTIK AYNI GÖSTERİM FARKLI(a,b)"
   ]
  },
  {
   "cell_type": "code",
   "execution_count": 19,
   "id": "4404bc94-fc95-4f11-9f9e-f6c8a73e0bda",
   "metadata": {},
   "outputs": [],
   "source": [
    "b = np.arange(1,10) #NOT: 0'dan başlayamaz. 1 ile 10 arasında dizi oluştur."
   ]
  },
  {
   "cell_type": "code",
   "execution_count": 20,
   "id": "d3355875-3e4e-40f5-915a-d10fda4998b1",
   "metadata": {},
   "outputs": [
    {
     "data": {
      "text/plain": [
       "array([1, 2, 3, 4, 5, 6, 7, 8, 9])"
      ]
     },
     "execution_count": 20,
     "metadata": {},
     "output_type": "execute_result"
    }
   ],
   "source": [
    "b #diziyi yazdır."
   ]
  },
  {
   "cell_type": "code",
   "execution_count": 21,
   "id": "c777c544-48a5-4d5f-a11d-6d08837b8abf",
   "metadata": {},
   "outputs": [
    {
     "data": {
      "text/plain": [
       "array([[1, 2, 3],\n",
       "       [4, 5, 6],\n",
       "       [7, 8, 9]])"
      ]
     },
     "execution_count": 21,
     "metadata": {},
     "output_type": "execute_result"
    }
   ],
   "source": [
    "b.reshape(3,3) #tek boyutlu elemanı matrixe dönüştür."
   ]
  },
  {
   "cell_type": "code",
   "execution_count": 24,
   "id": "fe5873d9-c238-4fc6-886b-2ab6e8d093ff",
   "metadata": {},
   "outputs": [
    {
     "data": {
      "text/plain": [
       "array([4, 3, 1, 8, 4, 5, 3, 5, 3])"
      ]
     },
     "execution_count": 24,
     "metadata": {},
     "output_type": "execute_result"
    }
   ],
   "source": [
    "c = np.random.randint(1,10,9) #9 farklı rastgele dizi oluştur.\n",
    "c"
   ]
  },
  {
   "cell_type": "code",
   "execution_count": 25,
   "id": "38730e09-c0e1-4311-b4d8-779d9619a477",
   "metadata": {},
   "outputs": [
    {
     "data": {
      "text/plain": [
       "array([[4, 3, 1],\n",
       "       [8, 4, 5],\n",
       "       [3, 5, 3]])"
      ]
     },
     "execution_count": 25,
     "metadata": {},
     "output_type": "execute_result"
    }
   ],
   "source": [
    "c.reshape(3,3) #matrixe dönüştür."
   ]
  },
  {
   "cell_type": "code",
   "execution_count": 26,
   "id": "726200e2-63de-4453-85b4-ac3ebd3cc979",
   "metadata": {},
   "outputs": [],
   "source": [
    "d = np.array((1,2,3)) #d elemanına 3 tane veriden oluşan dizi attık."
   ]
  },
  {
   "cell_type": "code",
   "execution_count": 27,
   "id": "f8172b9e-66f7-4368-b56c-06c7c0a4d71a",
   "metadata": {},
   "outputs": [
    {
     "data": {
      "text/plain": [
       "1"
      ]
     },
     "execution_count": 27,
     "metadata": {},
     "output_type": "execute_result"
    }
   ],
   "source": [
    "d.ndim #d elemanın kaç boyutlu olduğunu söylüyor."
   ]
  },
  {
   "cell_type": "code",
   "execution_count": 28,
   "id": "af234d40-eb41-49d4-873d-77b9e004c895",
   "metadata": {},
   "outputs": [],
   "source": [
    "e = d.reshape(1,3) # d elemanını 1 satır 3 sütundan oluşan matrix dönüştürdüm."
   ]
  },
  {
   "cell_type": "code",
   "execution_count": 30,
   "id": "d3481a82-342a-41a6-95a0-bb23d55f29f5",
   "metadata": {},
   "outputs": [
    {
     "data": {
      "text/plain": [
       "array([[1, 2, 3]])"
      ]
     },
     "execution_count": 30,
     "metadata": {},
     "output_type": "execute_result"
    }
   ],
   "source": [
    "e"
   ]
  },
  {
   "cell_type": "code",
   "execution_count": 49,
   "id": "709384fa-913f-4050-ad23-ad7e87772eb6",
   "metadata": {},
   "outputs": [
    {
     "data": {
      "text/plain": [
       "2"
      ]
     },
     "execution_count": 49,
     "metadata": {},
     "output_type": "execute_result"
    }
   ],
   "source": [
    "e.ndim #dizi artık 2(1,3) boyutlu"
   ]
  },
  {
   "cell_type": "code",
   "execution_count": null,
   "id": "f6927c85-2054-4b44-bf4b-3125f0d777ce",
   "metadata": {},
   "outputs": [],
   "source": []
  }
 ],
 "metadata": {
  "kernelspec": {
   "display_name": "Python 3 (ipykernel)",
   "language": "python",
   "name": "python3"
  },
  "language_info": {
   "codemirror_mode": {
    "name": "ipython",
    "version": 3
   },
   "file_extension": ".py",
   "mimetype": "text/x-python",
   "name": "python",
   "nbconvert_exporter": "python",
   "pygments_lexer": "ipython3",
   "version": "3.11.7"
  }
 },
 "nbformat": 4,
 "nbformat_minor": 5
}
