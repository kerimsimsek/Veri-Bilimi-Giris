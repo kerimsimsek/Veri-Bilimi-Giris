{
 "cells": [
  {
   "cell_type": "code",
   "execution_count": 1,
   "id": "7745b61e-137f-48ac-80a9-3194973603b8",
   "metadata": {},
   "outputs": [],
   "source": [
    "liste = [1,2,3,4,5]"
   ]
  },
  {
   "cell_type": "code",
   "execution_count": 2,
   "id": "269cdd24-4d96-4f65-956e-e17fd1bb97cf",
   "metadata": {},
   "outputs": [
    {
     "data": {
      "text/plain": [
       "[1, 2, 3, 4, 5]"
      ]
     },
     "execution_count": 2,
     "metadata": {},
     "output_type": "execute_result"
    }
   ],
   "source": [
    "liste"
   ]
  },
  {
   "cell_type": "code",
   "execution_count": 3,
   "id": "b18ea0ad-6442-4e81-848c-dd2e0a1e12d0",
   "metadata": {},
   "outputs": [],
   "source": [
    "import numpy as np"
   ]
  },
  {
   "cell_type": "code",
   "execution_count": 4,
   "id": "c7f9a10a-0754-4d1e-b8da-8d7918953dba",
   "metadata": {},
   "outputs": [],
   "source": [
    "a = np.array([1,2,3,4,5])"
   ]
  },
  {
   "cell_type": "code",
   "execution_count": 5,
   "id": "25c9d69e-0610-4546-adf2-cd29702c84d2",
   "metadata": {},
   "outputs": [
    {
     "data": {
      "text/plain": [
       "array([1, 2, 3, 4, 5])"
      ]
     },
     "execution_count": 5,
     "metadata": {},
     "output_type": "execute_result"
    }
   ],
   "source": [
    "a"
   ]
  },
  {
   "cell_type": "code",
   "execution_count": 6,
   "id": "a4cf5df5-9e56-45b9-a407-99e32dc916a9",
   "metadata": {},
   "outputs": [
    {
     "data": {
      "text/plain": [
       "numpy.ndarray"
      ]
     },
     "execution_count": 6,
     "metadata": {},
     "output_type": "execute_result"
    }
   ],
   "source": [
    "type(a)"
   ]
  },
  {
   "cell_type": "code",
   "execution_count": 10,
   "id": "671fbb80-bc40-4d76-8d70-760d049c065c",
   "metadata": {},
   "outputs": [],
   "source": [
    "liste1 = [1,2,3,4,5]\n",
    "liste2 = (6,7,8,9,0)"
   ]
  },
  {
   "cell_type": "code",
   "execution_count": 8,
   "id": "c151fe72-63ca-4b62-abd2-286cb4a914da",
   "metadata": {},
   "outputs": [],
   "source": [
    "liste3 = np.array(liste1)"
   ]
  },
  {
   "cell_type": "code",
   "execution_count": 9,
   "id": "bbae2fab-3ff9-4f8f-9914-a8349027e72c",
   "metadata": {},
   "outputs": [
    {
     "data": {
      "text/plain": [
       "array([1, 2, 3, 4, 5])"
      ]
     },
     "execution_count": 9,
     "metadata": {},
     "output_type": "execute_result"
    }
   ],
   "source": [
    "liste3"
   ]
  },
  {
   "cell_type": "code",
   "execution_count": 11,
   "id": "db001433-299a-496f-810f-61ac515b1e4b",
   "metadata": {},
   "outputs": [],
   "source": [
    "liste4 = np.array(liste2)"
   ]
  },
  {
   "cell_type": "code",
   "execution_count": 12,
   "id": "fe6b3bdc-6788-45cd-9c79-898d525cabd2",
   "metadata": {},
   "outputs": [
    {
     "data": {
      "text/plain": [
       "numpy.ndarray"
      ]
     },
     "execution_count": 12,
     "metadata": {},
     "output_type": "execute_result"
    }
   ],
   "source": [
    "type(liste4)"
   ]
  },
  {
   "cell_type": "code",
   "execution_count": 14,
   "id": "42c3af7d-bd2a-47bc-9307-aa6c89515a6d",
   "metadata": {},
   "outputs": [
    {
     "name": "stdout",
     "output_type": "stream",
     "text": [
      "<class 'numpy.int32'>\n",
      "<class 'numpy.int32'>\n",
      "<class 'numpy.int32'>\n",
      "<class 'numpy.int32'>\n",
      "<class 'numpy.int32'>\n"
     ]
    }
   ],
   "source": [
    "for i in liste4:\n",
    "    print(type(i))"
   ]
  },
  {
   "cell_type": "code",
   "execution_count": 17,
   "id": "c2c70201-9f94-4a33-a84f-f653f053096b",
   "metadata": {},
   "outputs": [],
   "source": [
    "c = np.array([1,2,3,4,5,6.9])"
   ]
  },
  {
   "cell_type": "code",
   "execution_count": 18,
   "id": "f989077e-97a2-49cd-a22b-d26c8a87314c",
   "metadata": {},
   "outputs": [
    {
     "name": "stdout",
     "output_type": "stream",
     "text": [
      "<class 'numpy.float64'>\n",
      "<class 'numpy.float64'>\n",
      "<class 'numpy.float64'>\n",
      "<class 'numpy.float64'>\n",
      "<class 'numpy.float64'>\n",
      "<class 'numpy.float64'>\n"
     ]
    }
   ],
   "source": [
    "for i in c:\n",
    "    print(type(i)) #hepsini int yapsaydı veri kaybı olacaktı o yüzden float değer olduğu için hepsini int'ten float'a dönüştürdü."
   ]
  },
  {
   "cell_type": "code",
   "execution_count": 20,
   "id": "428ffea0-ca30-4297-a975-823f57bf2c3b",
   "metadata": {},
   "outputs": [
    {
     "name": "stdout",
     "output_type": "stream",
     "text": [
      "<class 'numpy.int32'>\n",
      "<class 'numpy.int32'>\n",
      "<class 'numpy.int32'>\n",
      "<class 'numpy.int32'>\n",
      "<class 'numpy.int32'>\n",
      "<class 'numpy.int32'>\n"
     ]
    }
   ],
   "source": [
    "d = np.array([1,2,3,4,5,6.9],dtype=\"int32\")\n",
    "for i in d:\n",
    "    print(type(i)) #float değer olduğu için hepsini int'e çevirdim ama çok kullanılan bir yöntem değil."
   ]
  },
  {
   "cell_type": "code",
   "execution_count": 22,
   "id": "8df2fcd8-8701-48a5-aae1-549fdd918869",
   "metadata": {},
   "outputs": [
    {
     "data": {
      "text/plain": [
       "array([0., 0., 0., 0., 0., 0., 0., 0., 0., 0.])"
      ]
     },
     "execution_count": 22,
     "metadata": {},
     "output_type": "execute_result"
    }
   ],
   "source": [
    "np.zeros(10) #bunlar hep sıfır kalır değiştirilemez."
   ]
  },
  {
   "cell_type": "code",
   "execution_count": 23,
   "id": "af40624f-ef32-43ac-831f-8a9794b5e81d",
   "metadata": {},
   "outputs": [
    {
     "data": {
      "text/plain": [
       "array([0, 0, 0, 0, 0, 0, 0, 0, 0, 0], dtype=int8)"
      ]
     },
     "execution_count": 23,
     "metadata": {},
     "output_type": "execute_result"
    }
   ],
   "source": [
    "np.zeros(10,dtype=\"int8\") #şimdilik sıfır ama değişebilir. En fazla 256 değerini alabilir."
   ]
  },
  {
   "cell_type": "code",
   "execution_count": 24,
   "id": "7782fb35-ff11-42f5-9c8f-747e21eaa50e",
   "metadata": {},
   "outputs": [
    {
     "data": {
      "text/plain": [
       "array([1., 1., 1., 1., 1., 1., 1., 1., 1., 1., 1., 1.])"
      ]
     },
     "execution_count": 24,
     "metadata": {},
     "output_type": "execute_result"
    }
   ],
   "source": [
    "np.ones(12)"
   ]
  },
  {
   "cell_type": "code",
   "execution_count": 25,
   "id": "841275dc-4a98-409f-b774-135f28b6f470",
   "metadata": {},
   "outputs": [
    {
     "data": {
      "text/plain": [
       "array([6., 6., 6., 6., 6., 6., 6., 6., 6., 6., 6., 6.])"
      ]
     },
     "execution_count": 25,
     "metadata": {},
     "output_type": "execute_result"
    }
   ],
   "source": [
    "np.ones(12)*6"
   ]
  },
  {
   "cell_type": "code",
   "execution_count": 26,
   "id": "2ab1d680-bb0c-4c8a-94f5-67a4bdc1e4a5",
   "metadata": {},
   "outputs": [
    {
     "data": {
      "text/plain": [
       "array([7, 7, 7, 7, 7, 7, 7, 7, 7, 7, 7, 7, 7, 7])"
      ]
     },
     "execution_count": 26,
     "metadata": {},
     "output_type": "execute_result"
    }
   ],
   "source": [
    "np.full(14,7) #kaç tane ve hangi rakam olacak"
   ]
  }
 ],
 "metadata": {
  "kernelspec": {
   "display_name": "Python 3 (ipykernel)",
   "language": "python",
   "name": "python3"
  },
  "language_info": {
   "codemirror_mode": {
    "name": "ipython",
    "version": 3
   },
   "file_extension": ".py",
   "mimetype": "text/x-python",
   "name": "python",
   "nbconvert_exporter": "python",
   "pygments_lexer": "ipython3",
   "version": "3.11.7"
  }
 },
 "nbformat": 4,
 "nbformat_minor": 5
}
