{
 "cells": [
  {
   "cell_type": "code",
   "execution_count": 1,
   "id": "a1ae6232-3a26-4737-bced-669e25cd50ed",
   "metadata": {},
   "outputs": [],
   "source": [
    "import numpy as np"
   ]
  },
  {
   "cell_type": "code",
   "execution_count": 18,
   "id": "e829e5c8-3e59-4056-8532-49661c593744",
   "metadata": {},
   "outputs": [],
   "source": [
    "a = np.random.randint(1,20,size=10) #1 ile 20 arasında 10 tane rastgele dizi oluştur."
   ]
  },
  {
   "cell_type": "code",
   "execution_count": 19,
   "id": "22e8aacd-38d6-4203-ae92-f3639d579047",
   "metadata": {},
   "outputs": [
    {
     "data": {
      "text/plain": [
       "array([15,  4,  3, 12, 16, 15, 15,  1, 16,  8])"
      ]
     },
     "execution_count": 19,
     "metadata": {},
     "output_type": "execute_result"
    }
   ],
   "source": [
    "a"
   ]
  },
  {
   "cell_type": "code",
   "execution_count": 20,
   "id": "0a24c4ae-684d-4f23-907f-7209a0d789ab",
   "metadata": {},
   "outputs": [
    {
     "data": {
      "text/plain": [
       "1"
      ]
     },
     "execution_count": 20,
     "metadata": {},
     "output_type": "execute_result"
    }
   ],
   "source": [
    "a.ndim #dizinin kaç boyutlu(matrix gibi düşün) olduğunu gösterir."
   ]
  },
  {
   "cell_type": "code",
   "execution_count": 21,
   "id": "73a7e6ad-3c9f-4ea0-8b46-6019ef8ea760",
   "metadata": {},
   "outputs": [
    {
     "data": {
      "text/plain": [
       "(10,)"
      ]
     },
     "execution_count": 21,
     "metadata": {},
     "output_type": "execute_result"
    }
   ],
   "source": [
    "a.shape #dizinin boyutunu(yani kaç tane veri var) gösterir."
   ]
  },
  {
   "cell_type": "code",
   "execution_count": 22,
   "id": "ae7404cd-0d8a-450a-aca4-a80cb5ad9d40",
   "metadata": {},
   "outputs": [
    {
     "data": {
      "text/plain": [
       "10"
      ]
     },
     "execution_count": 22,
     "metadata": {},
     "output_type": "execute_result"
    }
   ],
   "source": [
    "a.size #kaç tane veri var."
   ]
  },
  {
   "cell_type": "code",
   "execution_count": 25,
   "id": "6c6104a5-cffe-499e-abf1-148af6663c93",
   "metadata": {},
   "outputs": [
    {
     "data": {
      "text/plain": [
       "dtype('int32')"
      ]
     },
     "execution_count": 25,
     "metadata": {},
     "output_type": "execute_result"
    }
   ],
   "source": [
    "a.dtype #dizinin tipini öğrendim."
   ]
  },
  {
   "cell_type": "code",
   "execution_count": 26,
   "id": "63231642-5504-4490-8b8c-2f503b3cafa9",
   "metadata": {},
   "outputs": [
    {
     "data": {
      "text/plain": [
       "numpy.ndarray"
      ]
     },
     "execution_count": 26,
     "metadata": {},
     "output_type": "execute_result"
    }
   ],
   "source": [
    "type(a)"
   ]
  },
  {
   "cell_type": "code",
   "execution_count": 47,
   "id": "edf77d51-eb40-454a-96e7-5f53042b4a0d",
   "metadata": {},
   "outputs": [
    {
     "data": {
      "text/plain": [
       "array([[[15,  5, 17,  3],\n",
       "        [16, 17,  8,  6],\n",
       "        [ 5, 19,  8, 16]],\n",
       "\n",
       "       [[10, 16, 17, 16],\n",
       "        [16,  8,  8, 12],\n",
       "        [18,  2, 13,  3]]])"
      ]
     },
     "execution_count": 47,
     "metadata": {},
     "output_type": "execute_result"
    }
   ],
   "source": [
    "b = np.random.randint(1,20,(2,3,4))\n",
    "b"
   ]
  },
  {
   "cell_type": "code",
   "execution_count": 48,
   "id": "9cc7793f-65fe-4800-9b38-28d4cb7ee24e",
   "metadata": {},
   "outputs": [
    {
     "data": {
      "text/plain": [
       "3"
      ]
     },
     "execution_count": 48,
     "metadata": {},
     "output_type": "execute_result"
    }
   ],
   "source": [
    "b.ndim #b elemanın kaç boyutlu matrix olduğunu söylüyor."
   ]
  },
  {
   "cell_type": "code",
   "execution_count": 49,
   "id": "9c4a5700-9cfc-422a-9f19-93a5210935b1",
   "metadata": {},
   "outputs": [
    {
     "data": {
      "text/plain": [
       "24"
      ]
     },
     "execution_count": 49,
     "metadata": {},
     "output_type": "execute_result"
    }
   ],
   "source": [
    "b.size #2 tabloda da 3 satır 4 sütun olduğu için 3x4=12 1.tabloda 12 tane veri var. 2 tablomuz olduğuna göre 12+12=24 tane verimiz var."
   ]
  },
  {
   "cell_type": "code",
   "execution_count": 50,
   "id": "13ee0fa1-483b-4793-8e93-b9d733d09f89",
   "metadata": {},
   "outputs": [
    {
     "data": {
      "text/plain": [
       "(2, 3, 4)"
      ]
     },
     "execution_count": 50,
     "metadata": {},
     "output_type": "execute_result"
    }
   ],
   "source": [
    "b.shape #2 tane tablo 3 satır ve 4 sütundan oluşan matrix olduğunu söylüyor."
   ]
  },
  {
   "cell_type": "code",
   "execution_count": 51,
   "id": "51103720-0910-4a7f-b019-0caa4b034588",
   "metadata": {},
   "outputs": [
    {
     "data": {
      "text/plain": [
       "dtype('int32')"
      ]
     },
     "execution_count": 51,
     "metadata": {},
     "output_type": "execute_result"
    }
   ],
   "source": [
    "b.dtype"
   ]
  },
  {
   "cell_type": "code",
   "execution_count": null,
   "id": "a5523b3b-bdd8-46cf-8685-bf3d6729abfd",
   "metadata": {},
   "outputs": [],
   "source": []
  }
 ],
 "metadata": {
  "kernelspec": {
   "display_name": "Python 3 (ipykernel)",
   "language": "python",
   "name": "python3"
  },
  "language_info": {
   "codemirror_mode": {
    "name": "ipython",
    "version": 3
   },
   "file_extension": ".py",
   "mimetype": "text/x-python",
   "name": "python",
   "nbconvert_exporter": "python",
   "pygments_lexer": "ipython3",
   "version": "3.11.7"
  }
 },
 "nbformat": 4,
 "nbformat_minor": 5
}
