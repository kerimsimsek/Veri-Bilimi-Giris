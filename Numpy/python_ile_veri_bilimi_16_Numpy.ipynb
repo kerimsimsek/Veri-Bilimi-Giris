{
 "cells": [
  {
   "cell_type": "markdown",
   "id": "6006f516-6878-42b5-93af-5dd2ed7e4adc",
   "metadata": {},
   "source": [
    "1) Numpy kütüphanesini ekleyin."
   ]
  },
  {
   "cell_type": "markdown",
   "id": "819e3bd0-144d-418b-8d67-52b575cafbd3",
   "metadata": {},
   "source": [
    "2) ([1,2,3,4,5,6]) elemanlarından oluşan bir array oluşturun."
   ]
  },
  {
   "cell_type": "markdown",
   "id": "700bf17e-1e12-45f4-b924-91db23ddbc4b",
   "metadata": {},
   "source": [
    "3) İçerisinde 6 tane 1 barındıran bir array oluşturun."
   ]
  },
  {
   "cell_type": "markdown",
   "id": "c1ce1ddf-3af4-4b12-a17d-24565eaf6098",
   "metadata": {},
   "source": [
    "4) 0'lardan oluşan 3 satır 4 sütunlu bir array oluşturun."
   ]
  },
  {
   "cell_type": "markdown",
   "id": "df46c96a-5a7a-4776-9f2b-83914e6eb317",
   "metadata": {},
   "source": [
    "5) 8'lerden oluşan 4 satır 5 sütunlu bir array oluşturun."
   ]
  },
  {
   "cell_type": "markdown",
   "id": "18dca139-8cae-4e4a-957a-f9f7ebb7ce7f",
   "metadata": {},
   "source": [
    "6) 20'den başlayarak 50'ye kadar 3'er atlamalı bir oluşturun."
   ]
  },
  {
   "cell_type": "markdown",
   "id": "3e67a0a8-5e77-41c8-a048-45eab8b85ed4",
   "metadata": {},
   "source": [
    "7) 2,9,7,1,4,6,3 değerleinden oluşan tek boyutlu bir array oluşturun."
   ]
  },
  {
   "cell_type": "markdown",
   "id": "6ab29b33-a462-455a-9205-17e6f7923016",
   "metadata": {},
   "source": [
    "8) 0 ila 20 arasında aynı uzaklıkta 5 elemanlı bir array oluşturun.(linspace)"
   ]
  },
  {
   "cell_type": "markdown",
   "id": "d7409050-164d-458d-99f3-1f3850d7796f",
   "metadata": {},
   "source": [
    "9) Normal dağılımlı 3 satır 4 sütunlu bir array oluşturun.(randn)"
   ]
  },
  {
   "cell_type": "markdown",
   "id": "a81aa3cc-9a05-450e-af23-9534f5c15372",
   "metadata": {},
   "source": [
    "10) 4 elemanlı birim matris oluşturun.(eye)"
   ]
  },
  {
   "cell_type": "markdown",
   "id": "09fe3536-fed5-4f2a-956a-dac2f9d0e90b",
   "metadata": {},
   "source": [
    "11) 0-1 arası 10 adet rastgele sayı oluşturup bu sayıların en büyük ve en küçüğünü bulun."
   ]
  },
  {
   "cell_type": "markdown",
   "id": "65495944-14d3-4915-991c-780f616af7c2",
   "metadata": {},
   "source": [
    "12) Rastgele sayılardan oluşan 5 satır 4 sütunlu bir matris oluşturun."
   ]
  },
  {
   "cell_type": "markdown",
   "id": "bc3aee14-02d1-4349-a60d-fcd716415ca1",
   "metadata": {},
   "source": [
    "13) \"1. satırdaki tüm değerlere ulaşın."
   ]
  },
  {
   "cell_type": "markdown",
   "id": "70fc79a9-fd2c-4e21-bb75-fb49d5a5d9d9",
   "metadata": {},
   "source": [
    "14) \"2. satırdaki 3. sütundaki elema ulaşın."
   ]
  },
  {
   "cell_type": "markdown",
   "id": "2801a312-9984-4c1d-9bb9-c0002f920e4b",
   "metadata": {},
   "source": [
    "15) \"3. sütundaki tüm elemanlara ulaşın."
   ]
  },
  {
   "cell_type": "markdown",
   "id": "e8a876ec-1cac-4764-9f7a-b2eee8f53855",
   "metadata": {},
   "source": [
    "16) for döngüsü ile 2 satır ve 3 sütundan oluşan matrisin elemanlarını alt alta yazınız."
   ]
  },
  {
   "cell_type": "markdown",
   "id": "3c38e562-321c-469d-bd12-5686892e8206",
   "metadata": {},
   "source": [
    "17) 0-1 arası rastgele 6 sayı oluşturup 5 ile çarpın."
   ]
  },
  {
   "cell_type": "markdown",
   "id": "e310b0aa-8f0d-4323-a4bf-b89eeb5afb9d",
   "metadata": {},
   "source": [
    "18) Array'ın sayıları toplamını bulun."
   ]
  },
  {
   "cell_type": "markdown",
   "id": "2e038321-26f0-4bc2-907e-6e1b7ef13c2a",
   "metadata": {},
   "source": [
    "19) Array'ın medyanını bulun."
   ]
  },
  {
   "cell_type": "markdown",
   "id": "dfba1d26-74b7-4a14-bb2b-0ab231149cf5",
   "metadata": {},
   "source": [
    "20) Array'ın standar sapmasını bulun."
   ]
  },
  {
   "cell_type": "code",
   "execution_count": 91,
   "id": "48e3744e-18cd-4a86-a1ee-9b8a40000656",
   "metadata": {},
   "outputs": [],
   "source": [
    "import numpy as np"
   ]
  },
  {
   "cell_type": "code",
   "execution_count": 3,
   "id": "111db9ef-37d9-4c93-a920-6552e334c11a",
   "metadata": {},
   "outputs": [
    {
     "data": {
      "text/plain": [
       "array([1, 2, 3, 4, 5, 6])"
      ]
     },
     "execution_count": 3,
     "metadata": {},
     "output_type": "execute_result"
    }
   ],
   "source": [
    "a = np.array([1,2,3,4,5,6])\n",
    "a"
   ]
  },
  {
   "cell_type": "code",
   "execution_count": 4,
   "id": "3c92d627-6df2-4732-a789-bd52ef33efed",
   "metadata": {},
   "outputs": [
    {
     "data": {
      "text/plain": [
       "array([1., 1., 1., 1., 1., 1.])"
      ]
     },
     "execution_count": 4,
     "metadata": {},
     "output_type": "execute_result"
    }
   ],
   "source": [
    "np.ones(6)"
   ]
  },
  {
   "cell_type": "code",
   "execution_count": 7,
   "id": "33a9a611-dc4d-49c4-b26f-1ee8424b68d0",
   "metadata": {},
   "outputs": [
    {
     "data": {
      "text/plain": [
       "array([[0., 0., 0., 0.],\n",
       "       [0., 0., 0., 0.],\n",
       "       [0., 0., 0., 0.]])"
      ]
     },
     "execution_count": 7,
     "metadata": {},
     "output_type": "execute_result"
    }
   ],
   "source": [
    "np.zeros((3,4))"
   ]
  },
  {
   "cell_type": "code",
   "execution_count": 94,
   "id": "053efc63-508e-4307-8d38-dc1afcb659d4",
   "metadata": {},
   "outputs": [
    {
     "data": {
      "text/plain": [
       "array([[8, 8, 8, 8, 8],\n",
       "       [8, 8, 8, 8, 8],\n",
       "       [8, 8, 8, 8, 8],\n",
       "       [8, 8, 8, 8, 8]])"
      ]
     },
     "execution_count": 94,
     "metadata": {},
     "output_type": "execute_result"
    }
   ],
   "source": [
    "#np.ones((4,5))*8 bu da kullanılır fakat alttaki daha pratik.\n",
    "np.full([4,5],8)"
   ]
  },
  {
   "cell_type": "code",
   "execution_count": 11,
   "id": "e596a777-ce04-4438-82c5-07136ff24346",
   "metadata": {},
   "outputs": [
    {
     "data": {
      "text/plain": [
       "array([20, 23, 26, 29, 32, 35, 38, 41, 44, 47])"
      ]
     },
     "execution_count": 11,
     "metadata": {},
     "output_type": "execute_result"
    }
   ],
   "source": [
    "np.arange(20,50,3)"
   ]
  },
  {
   "cell_type": "code",
   "execution_count": 60,
   "id": "4adf13e6-be6c-485b-9e10-c3028103fb54",
   "metadata": {},
   "outputs": [
    {
     "name": "stdout",
     "output_type": "stream",
     "text": [
      "Dizinin elemanları : [2 9 7 1 4 6 3]\n",
      "\n",
      "Dizi kaç boyutlu : 1\n"
     ]
    }
   ],
   "source": [
    "b = np.array([2,9,7,1,4,6,3])\n",
    "print(\"Dizinin elemanları :\", b)\n",
    "print(\"\\nDizi kaç boyutlu :\", b.ndim)"
   ]
  },
  {
   "cell_type": "code",
   "execution_count": 22,
   "id": "24f29489-ef87-4047-8013-ec29555b8fd6",
   "metadata": {},
   "outputs": [
    {
     "data": {
      "text/plain": [
       "array([ 0.,  5., 10., 15., 20.])"
      ]
     },
     "execution_count": 22,
     "metadata": {},
     "output_type": "execute_result"
    }
   ],
   "source": [
    "np.linspace(0,20,5)"
   ]
  },
  {
   "cell_type": "code",
   "execution_count": 97,
   "id": "5feacb7a-30a5-42af-9c9a-6c42970b2c12",
   "metadata": {},
   "outputs": [
    {
     "data": {
      "text/plain": [
       "array([[0.2276193 , 0.43817155, 0.55810864, 0.33239839],\n",
       "       [0.34866471, 0.47194004, 0.57908481, 0.94792556],\n",
       "       [0.55191094, 0.66049182, 0.10221043, 0.74471467]])"
      ]
     },
     "execution_count": 97,
     "metadata": {},
     "output_type": "execute_result"
    }
   ],
   "source": [
    "#c = np.random.randn(3,4) rand ile randn farkı randn negatif sayıda eklemesidir.\n",
    "c = np.random.rand(3,4)\n",
    "c"
   ]
  },
  {
   "cell_type": "code",
   "execution_count": 34,
   "id": "60cb552a-60b8-4e87-93df-428426f787ed",
   "metadata": {},
   "outputs": [
    {
     "data": {
      "text/plain": [
       "array([[1., 0., 0., 0.],\n",
       "       [0., 1., 0., 0.],\n",
       "       [0., 0., 1., 0.],\n",
       "       [0., 0., 0., 1.]])"
      ]
     },
     "execution_count": 34,
     "metadata": {},
     "output_type": "execute_result"
    }
   ],
   "source": [
    "np.eye(4)"
   ]
  },
  {
   "cell_type": "code",
   "execution_count": 98,
   "id": "49db1cdf-0298-4551-825d-102bc4856c92",
   "metadata": {},
   "outputs": [
    {
     "name": "stdout",
     "output_type": "stream",
     "text": [
      "10 rastgele sayı :  [0.9555521  0.98736033 0.63175778 0.30583862 0.75863326 0.78644759\n",
      " 0.53665461 0.01873072 0.05744023 0.48389673]\n",
      "\n",
      "En küçük sayı :  0.018730722940081046\n",
      "\n",
      "En büyük sayı :  0.9873603276702295\n"
     ]
    }
   ],
   "source": [
    "d = np.random.rand(10)\n",
    "print(\"10 rastgele sayı : \",d)\n",
    "print(\"\\nEn küçük sayı : \",d.min())\n",
    "print(\"\\nEn büyük sayı : \",d.max())"
   ]
  },
  {
   "cell_type": "code",
   "execution_count": 99,
   "id": "854b1db7-0916-4299-bd81-6311689e00d5",
   "metadata": {},
   "outputs": [
    {
     "data": {
      "text/plain": [
       "array([[ 4, 28, 34, 20],\n",
       "       [11, 41,  2, 46],\n",
       "       [15, 39, 22, 30],\n",
       "       [47,  1, 49, 37],\n",
       "       [44, 15, 11,  8]])"
      ]
     },
     "execution_count": 99,
     "metadata": {},
     "output_type": "execute_result"
    }
   ],
   "source": [
    "#e = np.random.randint(1,50,20).reshape(5,4) alttaki ile mantık aynı sadece gösterim farklı\n",
    "e = np.random.randint(1,50,size=(5,4))\n",
    "e"
   ]
  },
  {
   "cell_type": "code",
   "execution_count": 100,
   "id": "01500e90-7f68-4f43-a145-1e488d1aed84",
   "metadata": {},
   "outputs": [
    {
     "data": {
      "text/plain": [
       "array([11, 41,  2, 46])"
      ]
     },
     "execution_count": 100,
     "metadata": {},
     "output_type": "execute_result"
    }
   ],
   "source": [
    "e[1,:]"
   ]
  },
  {
   "cell_type": "code",
   "execution_count": 101,
   "id": "1da1467c-6e9f-4f67-8ba7-f111acc63533",
   "metadata": {},
   "outputs": [
    {
     "data": {
      "text/plain": [
       "30"
      ]
     },
     "execution_count": 101,
     "metadata": {},
     "output_type": "execute_result"
    }
   ],
   "source": [
    "e[2,3]"
   ]
  },
  {
   "cell_type": "code",
   "execution_count": 102,
   "id": "430c500a-ffd2-4a42-823d-c61856c663bb",
   "metadata": {},
   "outputs": [
    {
     "data": {
      "text/plain": [
       "array([20, 46, 30, 37,  8])"
      ]
     },
     "execution_count": 102,
     "metadata": {},
     "output_type": "execute_result"
    }
   ],
   "source": [
    "e[:,3]"
   ]
  },
  {
   "cell_type": "code",
   "execution_count": 104,
   "id": "81e88c50-af33-4c9c-9c6a-076974e3965f",
   "metadata": {},
   "outputs": [
    {
     "data": {
      "text/plain": [
       "array([[1, 2, 3],\n",
       "       [4, 5, 6]])"
      ]
     },
     "execution_count": 104,
     "metadata": {},
     "output_type": "execute_result"
    }
   ],
   "source": [
    "f = np.arange(1,7).reshape(2,3)\n",
    "f"
   ]
  },
  {
   "cell_type": "code",
   "execution_count": 105,
   "id": "ee3f3386-8624-4e66-b117-3b3427907354",
   "metadata": {},
   "outputs": [
    {
     "name": "stdout",
     "output_type": "stream",
     "text": [
      "1\n",
      "2\n",
      "3\n",
      "4\n",
      "5\n",
      "6\n"
     ]
    }
   ],
   "source": [
    "for i in f.flat: #flat komutu altalta sıralar.\n",
    "    print(i)"
   ]
  },
  {
   "cell_type": "code",
   "execution_count": 106,
   "id": "b64fcd6a-b555-47ca-9933-3259ef3c9b0a",
   "metadata": {},
   "outputs": [
    {
     "data": {
      "text/plain": [
       "array([0.10610167, 0.45873844, 0.17311534, 0.19067147, 0.06563878,\n",
       "       0.50891374])"
      ]
     },
     "execution_count": 106,
     "metadata": {},
     "output_type": "execute_result"
    }
   ],
   "source": [
    "g = np.random.rand(6)\n",
    "g"
   ]
  },
  {
   "cell_type": "code",
   "execution_count": 111,
   "id": "c66f8550-fe36-417d-9ee3-060f79cfb0a9",
   "metadata": {},
   "outputs": [
    {
     "data": {
      "text/plain": [
       "array([0.53050837, 2.29369219, 0.86557672, 0.95335736, 0.3281939 ,\n",
       "       2.54456868])"
      ]
     },
     "execution_count": 111,
     "metadata": {},
     "output_type": "execute_result"
    }
   ],
   "source": [
    "g*5"
   ]
  },
  {
   "cell_type": "code",
   "execution_count": 112,
   "id": "3800098f-8a16-4b26-8d04-fbe570a7b2ab",
   "metadata": {},
   "outputs": [
    {
     "data": {
      "text/plain": [
       "1.5031794440497181"
      ]
     },
     "execution_count": 112,
     "metadata": {},
     "output_type": "execute_result"
    }
   ],
   "source": [
    "g.sum()"
   ]
  },
  {
   "cell_type": "code",
   "execution_count": 113,
   "id": "0c4b2081-899e-413c-bbb7-01862620ac18",
   "metadata": {},
   "outputs": [
    {
     "data": {
      "text/plain": [
       "0.18189340814300065"
      ]
     },
     "execution_count": 113,
     "metadata": {},
     "output_type": "execute_result"
    }
   ],
   "source": [
    "np.median(g)"
   ]
  },
  {
   "cell_type": "code",
   "execution_count": 114,
   "id": "69f107e0-b027-40ad-9393-5909d8641393",
   "metadata": {},
   "outputs": [
    {
     "data": {
      "text/plain": [
       "0.17065231966066266"
      ]
     },
     "execution_count": 114,
     "metadata": {},
     "output_type": "execute_result"
    }
   ],
   "source": [
    "g.std()"
   ]
  }
 ],
 "metadata": {
  "kernelspec": {
   "display_name": "Python 3 (ipykernel)",
   "language": "python",
   "name": "python3"
  },
  "language_info": {
   "codemirror_mode": {
    "name": "ipython",
    "version": 3
   },
   "file_extension": ".py",
   "mimetype": "text/x-python",
   "name": "python",
   "nbconvert_exporter": "python",
   "pygments_lexer": "ipython3",
   "version": "3.11.7"
  }
 },
 "nbformat": 4,
 "nbformat_minor": 5
}
