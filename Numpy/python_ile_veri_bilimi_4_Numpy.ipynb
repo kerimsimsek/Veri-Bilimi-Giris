{
 "cells": [
  {
   "cell_type": "code",
   "execution_count": 1,
   "id": "0c979b22-0c37-4e90-aefc-9488ba9f788b",
   "metadata": {},
   "outputs": [],
   "source": [
    "import numpy as np"
   ]
  },
  {
   "cell_type": "code",
   "execution_count": 3,
   "id": "06638002-a685-47af-84b2-530f0e889a6d",
   "metadata": {},
   "outputs": [
    {
     "data": {
      "text/plain": [
       "array([0, 1, 2, 3, 4, 5, 6, 7, 8, 9])"
      ]
     },
     "execution_count": 3,
     "metadata": {},
     "output_type": "execute_result"
    }
   ],
   "source": [
    "np.arange(0,10) #tek tek elle yazmak yerine arange ile otomatik iki sayı arasındaki veriyi yazdırabiliriz."
   ]
  },
  {
   "cell_type": "code",
   "execution_count": 4,
   "id": "1a5cdea0-a789-47b4-8151-1340fc847777",
   "metadata": {},
   "outputs": [
    {
     "data": {
      "text/plain": [
       "array([ 0,  2,  4,  6,  8, 10, 12, 14, 16, 18, 20, 22, 24, 26, 28])"
      ]
     },
     "execution_count": 4,
     "metadata": {},
     "output_type": "execute_result"
    }
   ],
   "source": [
    "np.arange(0,30,2) #başlangıç = 0, bitiş = 30, kaçar kaçar artsın = 2"
   ]
  },
  {
   "cell_type": "code",
   "execution_count": 5,
   "id": "820c0ec1-59d5-4150-bbc9-1ed883583557",
   "metadata": {},
   "outputs": [
    {
     "data": {
      "text/plain": [
       "array([0. , 0.5, 1. , 1.5, 2. , 2.5])"
      ]
     },
     "execution_count": 5,
     "metadata": {},
     "output_type": "execute_result"
    }
   ],
   "source": [
    "np.arange(0,3,0.5)"
   ]
  },
  {
   "cell_type": "code",
   "execution_count": 10,
   "id": "084dbdd0-edc1-4477-80ad-4f111929f3d5",
   "metadata": {},
   "outputs": [
    {
     "data": {
      "text/plain": [
       "array([  0.,  25.,  50.,  75., 100.])"
      ]
     },
     "execution_count": 10,
     "metadata": {},
     "output_type": "execute_result"
    }
   ],
   "source": [
    "np.linspace(0,100,5) #başlangıç = 0, bitiş = 100, kaç eşit parçaya bölsün = 5"
   ]
  },
  {
   "cell_type": "code",
   "execution_count": 11,
   "id": "37f60649-78ef-4d95-be44-307f648fb574",
   "metadata": {},
   "outputs": [
    {
     "data": {
      "text/plain": [
       "array([0.78470947, 0.65755934, 0.11352312, 0.61755063, 0.04760459])"
      ]
     },
     "execution_count": 11,
     "metadata": {},
     "output_type": "execute_result"
    }
   ],
   "source": [
    "np.random.rand(5) #0'dan 5'e kadar rastgele sayı oluştur."
   ]
  },
  {
   "cell_type": "code",
   "execution_count": 12,
   "id": "076780da-4b57-4379-8ec4-e91e85e35a26",
   "metadata": {},
   "outputs": [
    {
     "data": {
      "text/plain": [
       "array([[0.14739598, 0.75901523, 0.78406981],\n",
       "       [0.67304081, 0.25367226, 0.67871546]])"
      ]
     },
     "execution_count": 12,
     "metadata": {},
     "output_type": "execute_result"
    }
   ],
   "source": [
    "np.random.rand(2,3) #rastgele değerlerden 2'ye 3 matrix oluştur."
   ]
  },
  {
   "cell_type": "code",
   "execution_count": 13,
   "id": "56eca14e-8f7f-4c5b-a9e4-c8fa0daca907",
   "metadata": {},
   "outputs": [
    {
     "data": {
      "text/plain": [
       "array([[-0.02631775,  0.29101457, -0.30862849],\n",
       "       [ 0.78307945,  1.07206861,  0.21276257],\n",
       "       [-1.79177506, -0.60420176,  1.6646139 ]])"
      ]
     },
     "execution_count": 13,
     "metadata": {},
     "output_type": "execute_result"
    }
   ],
   "source": [
    "np.random.normal(0,1,(3,3)) #0 ile 1 arasında 3'e 3'lük matrix oluştur."
   ]
  },
  {
   "cell_type": "code",
   "execution_count": 15,
   "id": "3589722d-e93a-41db-a385-5412dcab5eb2",
   "metadata": {},
   "outputs": [
    {
     "data": {
      "text/plain": [
       "array([[10.7205482 , 19.13800294, 14.72295885],\n",
       "       [14.70328511,  9.65943975, 10.10806426],\n",
       "       [ 9.45540752,  8.94643612, 11.81857612]])"
      ]
     },
     "execution_count": 15,
     "metadata": {},
     "output_type": "execute_result"
    }
   ],
   "source": [
    "np.random.normal(10,3,(3,3)) #ortalaması 10 standart sapma 3 olan 3x3'lük matrix oluştur."
   ]
  },
  {
   "cell_type": "code",
   "execution_count": 16,
   "id": "d0f53b18-91b6-40d7-9400-540e22f91920",
   "metadata": {},
   "outputs": [
    {
     "data": {
      "text/plain": [
       "7"
      ]
     },
     "execution_count": 16,
     "metadata": {},
     "output_type": "execute_result"
    }
   ],
   "source": [
    "np.random.randint(0,10) #tam sayılardan 0 ile 10 arasında rastgele sayı oluştur."
   ]
  },
  {
   "cell_type": "code",
   "execution_count": 17,
   "id": "01906b6a-f410-4149-9347-a9c6423a9c82",
   "metadata": {},
   "outputs": [
    {
     "data": {
      "text/plain": [
       "6"
      ]
     },
     "execution_count": 17,
     "metadata": {},
     "output_type": "execute_result"
    }
   ],
   "source": [
    "np.random.randint(10) #yukarıdaki(0,10) ile (10) ifadesinin gösteriminin mantığı aynı"
   ]
  },
  {
   "cell_type": "code",
   "execution_count": 18,
   "id": "60d9dfe3-e124-4b70-8bc8-def5f909d692",
   "metadata": {},
   "outputs": [
    {
     "data": {
      "text/plain": [
       "array([4, 5, 6, 7, 2])"
      ]
     },
     "execution_count": 18,
     "metadata": {},
     "output_type": "execute_result"
    }
   ],
   "source": [
    "np.random.randint(0,10,5) #0'dan başla 10'a kadar 5 farklı sayı oluştur."
   ]
  },
  {
   "cell_type": "code",
   "execution_count": 19,
   "id": "38f0913e-fa57-44d4-956a-60677e35aa7a",
   "metadata": {},
   "outputs": [
    {
     "data": {
      "text/plain": [
       "array([[9, 4],\n",
       "       [2, 7],\n",
       "       [2, 2],\n",
       "       [0, 4]])"
      ]
     },
     "execution_count": 19,
     "metadata": {},
     "output_type": "execute_result"
    }
   ],
   "source": [
    "np.random.randint(0,10,(4,2)) #başlangıç = 0, bitiş = 10, matrix = 4x2 rastgele tam sayı oluştur."
   ]
  },
  {
   "cell_type": "code",
   "execution_count": 20,
   "id": "0a0e9a9a-6aba-4b97-9bef-1a711602371d",
   "metadata": {},
   "outputs": [
    {
     "data": {
      "text/plain": [
       "array([[-1.30906535,  0.41958689,  0.38198239, -1.05445779],\n",
       "       [-0.15005638, -0.43499202, -1.55164154, -1.44807041],\n",
       "       [-0.16104657,  0.22448966, -0.29468521,  0.45628577]])"
      ]
     },
     "execution_count": 20,
     "metadata": {},
     "output_type": "execute_result"
    }
   ],
   "source": [
    "np.random.randn(3,4) #3 satır ve 4 sütundan oluşan bir matris oluşturur.\n",
    "#Bu matrisin her bir elemanı, standart normal dağılıma sahip rastgele sayılarla doldurulur.\n",
    "#Standart normal dağılım, ortalama değeri 0 ve varyansı 1 olan bir dağılımdır.\n",
    "#Yani, her eleman, bu dağılıma göre rastgele seçilir."
   ]
  },
  {
   "cell_type": "code",
   "execution_count": 21,
   "id": "69fc388a-f05b-415b-92a7-e528aea8cd9c",
   "metadata": {},
   "outputs": [
    {
     "data": {
      "text/plain": [
       "array([[1., 0., 0., 0., 0., 0., 0., 0.],\n",
       "       [0., 1., 0., 0., 0., 0., 0., 0.],\n",
       "       [0., 0., 1., 0., 0., 0., 0., 0.],\n",
       "       [0., 0., 0., 1., 0., 0., 0., 0.],\n",
       "       [0., 0., 0., 0., 1., 0., 0., 0.],\n",
       "       [0., 0., 0., 0., 0., 1., 0., 0.],\n",
       "       [0., 0., 0., 0., 0., 0., 1., 0.],\n",
       "       [0., 0., 0., 0., 0., 0., 0., 1.]])"
      ]
     },
     "execution_count": 21,
     "metadata": {},
     "output_type": "execute_result"
    }
   ],
   "source": [
    "np.eye(8) # çapraz bir şekilde sol üstten sağ alta kadar 1 ifadesi geri kalanı 0 değerini döndürür."
   ]
  }
 ],
 "metadata": {
  "kernelspec": {
   "display_name": "Python 3 (ipykernel)",
   "language": "python",
   "name": "python3"
  },
  "language_info": {
   "codemirror_mode": {
    "name": "ipython",
    "version": 3
   },
   "file_extension": ".py",
   "mimetype": "text/x-python",
   "name": "python",
   "nbconvert_exporter": "python",
   "pygments_lexer": "ipython3",
   "version": "3.11.7"
  }
 },
 "nbformat": 4,
 "nbformat_minor": 5
}
