{
 "cells": [
  {
   "cell_type": "code",
   "execution_count": 2,
   "id": "f9591443-af4d-4265-806f-acaee7fcfed5",
   "metadata": {},
   "outputs": [],
   "source": [
    "import numpy as np"
   ]
  },
  {
   "cell_type": "code",
   "execution_count": 3,
   "id": "2094a429-0387-4547-96d4-61224bf77a9d",
   "metadata": {},
   "outputs": [
    {
     "data": {
      "text/plain": [
       "array([1, 2, 3, 4, 5, 6, 7])"
      ]
     },
     "execution_count": 3,
     "metadata": {},
     "output_type": "execute_result"
    }
   ],
   "source": [
    "a = np.arange(1,8)\n",
    "a"
   ]
  },
  {
   "cell_type": "code",
   "execution_count": 4,
   "id": "07ad0064-281b-44f4-adbe-d599063957b4",
   "metadata": {},
   "outputs": [
    {
     "data": {
      "text/plain": [
       "array([False, False, False, False, False,  True,  True])"
      ]
     },
     "execution_count": 4,
     "metadata": {},
     "output_type": "execute_result"
    }
   ],
   "source": [
    "a>5 #5'den büyükleri True, küçükleri False değeri döndürür."
   ]
  },
  {
   "cell_type": "code",
   "execution_count": 5,
   "id": "5b328e90-8b4a-4972-a13b-08af0c4c1cef",
   "metadata": {},
   "outputs": [
    {
     "data": {
      "text/plain": [
       "array([False, False, False, False,  True,  True,  True])"
      ]
     },
     "execution_count": 5,
     "metadata": {},
     "output_type": "execute_result"
    }
   ],
   "source": [
    "a>=5 #5'den büyükleri ve 5'e eşit olanları True, küçükleri False değeri döndürür."
   ]
  },
  {
   "cell_type": "code",
   "execution_count": 6,
   "id": "f1041147-4758-4e7d-8e36-670eaf6b2755",
   "metadata": {},
   "outputs": [
    {
     "data": {
      "text/plain": [
       "array([ True,  True,  True,  True,  True, False, False])"
      ]
     },
     "execution_count": 6,
     "metadata": {},
     "output_type": "execute_result"
    }
   ],
   "source": [
    "a<=5 #5'den küçükleri ve 5'e eşit olanları True, büyükleri False değeri döndürür."
   ]
  },
  {
   "cell_type": "code",
   "execution_count": 7,
   "id": "f13b4c68-38ed-4ff1-be70-3a4c2e2e6dcf",
   "metadata": {},
   "outputs": [
    {
     "data": {
      "text/plain": [
       "3"
      ]
     },
     "execution_count": 7,
     "metadata": {},
     "output_type": "execute_result"
    }
   ],
   "source": [
    "np.sum(a>=5) #5'e eşit ve büyük olanların kaç tane olduğunu söyler."
   ]
  },
  {
   "cell_type": "code",
   "execution_count": 9,
   "id": "36c36ce0-7b7c-4829-b152-47ea958a5c5f",
   "metadata": {},
   "outputs": [
    {
     "data": {
      "text/plain": [
       "3"
      ]
     },
     "execution_count": 9,
     "metadata": {},
     "output_type": "execute_result"
    }
   ],
   "source": [
    "np.sum((a>2) & (a<6)) #2'den büyük ve 6'dan küçük verilerin kaç tane olduğunu söyler."
   ]
  },
  {
   "cell_type": "code",
   "execution_count": 10,
   "id": "7c1e91a5-e11e-4cd3-9225-55d7438f8104",
   "metadata": {},
   "outputs": [
    {
     "data": {
      "text/plain": [
       "5"
      ]
     },
     "execution_count": 10,
     "metadata": {},
     "output_type": "execute_result"
    }
   ],
   "source": [
    "np.sum(a>2) & np.sum(a<6) #2'den büyük ve 6'dan küçük olanların kaç tane olduğunu bul ve toplayıp ekrana yaz."
   ]
  },
  {
   "cell_type": "code",
   "execution_count": 13,
   "id": "944d4121-922d-4206-a267-4429ea390f70",
   "metadata": {},
   "outputs": [
    {
     "data": {
      "text/plain": [
       "array([[6, 7, 1],\n",
       "       [1, 9, 8],\n",
       "       [6, 6, 4]])"
      ]
     },
     "execution_count": 13,
     "metadata": {},
     "output_type": "execute_result"
    }
   ],
   "source": [
    "b = np.random.randint(1,10,(3,3))\n",
    "b"
   ]
  },
  {
   "cell_type": "code",
   "execution_count": 14,
   "id": "19c7c576-e67c-41df-87ee-972c29d7a2b1",
   "metadata": {},
   "outputs": [
    {
     "data": {
      "text/plain": [
       "array([[ True,  True, False],\n",
       "       [False,  True,  True],\n",
       "       [ True,  True, False]])"
      ]
     },
     "execution_count": 14,
     "metadata": {},
     "output_type": "execute_result"
    }
   ],
   "source": [
    "b > 5"
   ]
  },
  {
   "cell_type": "code",
   "execution_count": 16,
   "id": "64aff7c0-84b1-4759-bd66-c8c41c8b1742",
   "metadata": {},
   "outputs": [
    {
     "data": {
      "text/plain": [
       "6"
      ]
     },
     "execution_count": 16,
     "metadata": {},
     "output_type": "execute_result"
    }
   ],
   "source": [
    "np.sum(b>5)"
   ]
  },
  {
   "cell_type": "code",
   "execution_count": 20,
   "id": "9a690f7f-7acf-4e6d-846c-44688257554e",
   "metadata": {},
   "outputs": [
    {
     "data": {
      "text/plain": [
       "array([2, 2, 2])"
      ]
     },
     "execution_count": 20,
     "metadata": {},
     "output_type": "execute_result"
    }
   ],
   "source": [
    "np.sum(b>5,axis=1) #satır satır ve bakar 5'den büyük kaç tane olduğunu söyler."
   ]
  },
  {
   "cell_type": "code",
   "execution_count": 21,
   "id": "56902899-d8ce-40cf-9d8b-66f827aedd78",
   "metadata": {},
   "outputs": [
    {
     "data": {
      "text/plain": [
       "array([2, 3, 1])"
      ]
     },
     "execution_count": 21,
     "metadata": {},
     "output_type": "execute_result"
    }
   ],
   "source": [
    "np.sum(b>5,axis=0) #sütun sütun bakar ve 5'den büyük kaç tane olduğunu söyler."
   ]
  },
  {
   "cell_type": "markdown",
   "id": "41ca4313-8a51-4f64-babf-c15928f84b59",
   "metadata": {},
   "source": [
    "---"
   ]
  },
  {
   "cell_type": "code",
   "execution_count": 22,
   "id": "7152a5ed-a7c3-49e1-894b-4c5cc2c39498",
   "metadata": {},
   "outputs": [
    {
     "data": {
      "text/plain": [
       "array([[6, 8, 8],\n",
       "       [8, 8, 6],\n",
       "       [2, 1, 3],\n",
       "       [5, 2, 2]])"
      ]
     },
     "execution_count": 22,
     "metadata": {},
     "output_type": "execute_result"
    }
   ],
   "source": [
    "c = np.random.randint(1,10,(4,3))\n",
    "c"
   ]
  },
  {
   "cell_type": "code",
   "execution_count": 24,
   "id": "42a8bf8d-5dd6-402f-975e-5bd6b9991094",
   "metadata": {},
   "outputs": [
    {
     "data": {
      "text/plain": [
       "True"
      ]
     },
     "execution_count": 24,
     "metadata": {},
     "output_type": "execute_result"
    }
   ],
   "source": [
    "np.all(c>0) #all komutu ile verilerin hepsi 0'dan büyükse True değerini döndürür."
   ]
  },
  {
   "cell_type": "code",
   "execution_count": 26,
   "id": "5150a635-5c46-4120-9a68-732ab07ff519",
   "metadata": {},
   "outputs": [
    {
     "data": {
      "text/plain": [
       "False"
      ]
     },
     "execution_count": 26,
     "metadata": {},
     "output_type": "execute_result"
    }
   ],
   "source": [
    "np.all(c>3) #all komutu ile verilerin hepsi 3'den büyük mü olduğna bakar fakat küçük değer varsa False değerini döndürür."
   ]
  },
  {
   "cell_type": "code",
   "execution_count": 25,
   "id": "c6f6c8ce-99f5-4d94-80f2-7473d8839443",
   "metadata": {},
   "outputs": [
    {
     "data": {
      "text/plain": [
       "True"
      ]
     },
     "execution_count": 25,
     "metadata": {},
     "output_type": "execute_result"
    }
   ],
   "source": [
    "np.any(c>3) #any komutu ile verilerin herhangi biri 3'den büyükse True değerini döndürür."
   ]
  }
 ],
 "metadata": {
  "kernelspec": {
   "display_name": "Python 3 (ipykernel)",
   "language": "python",
   "name": "python3"
  },
  "language_info": {
   "codemirror_mode": {
    "name": "ipython",
    "version": 3
   },
   "file_extension": ".py",
   "mimetype": "text/x-python",
   "name": "python",
   "nbconvert_exporter": "python",
   "pygments_lexer": "ipython3",
   "version": "3.11.7"
  }
 },
 "nbformat": 4,
 "nbformat_minor": 5
}
