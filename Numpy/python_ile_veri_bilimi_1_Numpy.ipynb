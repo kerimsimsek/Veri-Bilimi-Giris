{
 "cells": [
  {
   "cell_type": "code",
   "execution_count": 1,
   "id": "58e749e7-ddfe-4398-8f37-807216041d8b",
   "metadata": {},
   "outputs": [],
   "source": [
    "import numpy as np"
   ]
  },
  {
   "cell_type": "markdown",
   "id": "7c40ee3b-c7d9-47b7-a0f7-ff0765a45da0",
   "metadata": {},
   "source": [
    "AŞAĞIDAKİ İŞLEM UZUN OLANI"
   ]
  },
  {
   "cell_type": "code",
   "execution_count": 2,
   "id": "e645bb37-e062-4574-8cc4-707c788ef55a",
   "metadata": {},
   "outputs": [],
   "source": [
    "a = [1,2,3,4,5]\n",
    "b = [6,7,8,9,10]"
   ]
  },
  {
   "cell_type": "code",
   "execution_count": 3,
   "id": "c15c6404-8220-49b8-a8a9-b89447b5f17b",
   "metadata": {},
   "outputs": [],
   "source": [
    "liste = list()"
   ]
  },
  {
   "cell_type": "code",
   "execution_count": 4,
   "id": "9af66db8-0e1b-4a76-9eb2-175db36b1f30",
   "metadata": {},
   "outputs": [
    {
     "name": "stdout",
     "output_type": "stream",
     "text": [
      "[6, 14, 24, 36, 50]\n"
     ]
    }
   ],
   "source": [
    "for i in range(len(a)):\n",
    "    liste.append(a[i]*b[i])\n",
    "print(liste)"
   ]
  },
  {
   "cell_type": "markdown",
   "id": "7d4d251d-0a16-4631-9ec1-ff536f17cdec",
   "metadata": {},
   "source": [
    "YUKARIDAKİ İŞLEMİ NUMPY İLE YAPALIM"
   ]
  },
  {
   "cell_type": "code",
   "execution_count": 5,
   "id": "d7a0334e-aa55-4c56-bcd9-4e4354fb1281",
   "metadata": {},
   "outputs": [],
   "source": [
    "a = np.array([1,2,3,4,5])\n",
    "b = np.array([6,7,8,9,10])"
   ]
  },
  {
   "cell_type": "code",
   "execution_count": 6,
   "id": "33af989f-5a24-4216-ba4f-4966cd4e9bb3",
   "metadata": {},
   "outputs": [
    {
     "data": {
      "text/plain": [
       "array([ 6, 14, 24, 36, 50])"
      ]
     },
     "execution_count": 6,
     "metadata": {},
     "output_type": "execute_result"
    }
   ],
   "source": [
    "a*b"
   ]
  }
 ],
 "metadata": {
  "kernelspec": {
   "display_name": "Python 3 (ipykernel)",
   "language": "python",
   "name": "python3"
  },
  "language_info": {
   "codemirror_mode": {
    "name": "ipython",
    "version": 3
   },
   "file_extension": ".py",
   "mimetype": "text/x-python",
   "name": "python",
   "nbconvert_exporter": "python",
   "pygments_lexer": "ipython3",
   "version": "3.11.7"
  }
 },
 "nbformat": 4,
 "nbformat_minor": 5
}
