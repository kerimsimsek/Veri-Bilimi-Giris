{
 "cells": [
  {
   "cell_type": "code",
   "execution_count": 1,
   "id": "e3c62f2d-b0dd-4525-ad87-303ede10ee02",
   "metadata": {},
   "outputs": [],
   "source": [
    "import numpy as np"
   ]
  },
  {
   "cell_type": "code",
   "execution_count": 2,
   "id": "29e16965-bb4b-418f-8acb-eaf2f78819e3",
   "metadata": {},
   "outputs": [],
   "source": [
    "a = np.random.randint(1,20,12) #başlangıç = 1, bitiş = 20, kaç tane veri = 12"
   ]
  },
  {
   "cell_type": "code",
   "execution_count": 3,
   "id": "9febb2cb-d6bf-407a-b540-2c97d681ddd1",
   "metadata": {},
   "outputs": [
    {
     "data": {
      "text/plain": [
       "array([12, 10, 16,  1,  1,  8, 14, 14,  4, 12,  4,  8])"
      ]
     },
     "execution_count": 3,
     "metadata": {},
     "output_type": "execute_result"
    }
   ],
   "source": [
    "a"
   ]
  },
  {
   "cell_type": "code",
   "execution_count": 7,
   "id": "37aaf6d1-8ef6-4347-8068-9c0408737cc2",
   "metadata": {},
   "outputs": [
    {
     "data": {
      "text/plain": [
       "[array([12, 10, 16,  1,  1]), array([ 8, 14, 14,  4, 12,  4,  8])]"
      ]
     },
     "execution_count": 7,
     "metadata": {},
     "output_type": "execute_result"
    }
   ],
   "source": [
    "np.split(a,[5])"
   ]
  },
  {
   "cell_type": "code",
   "execution_count": 9,
   "id": "6c452985-8992-43b4-8c05-ee546891e1fe",
   "metadata": {},
   "outputs": [
    {
     "data": {
      "text/plain": [
       "[array([12, 10]), array([16,  1,  1]), array([ 8, 14, 14,  4, 12,  4,  8])]"
      ]
     },
     "execution_count": 9,
     "metadata": {},
     "output_type": "execute_result"
    }
   ],
   "source": [
    "np.split(a,[2,5]) #ilk 2 veri 1. array dizisi sonraki 3,4 ve 5. sıradaki veri 2. array dizisi geri kalanı 3. array dizisidir."
   ]
  },
  {
   "cell_type": "code",
   "execution_count": 10,
   "id": "a76323f1-c217-4fa5-b763-48fcfedb089d",
   "metadata": {},
   "outputs": [
    {
     "data": {
      "text/plain": [
       "[array([12, 10]),\n",
       " array([16,  1,  1]),\n",
       " array([ 8, 14, 14]),\n",
       " array([ 4, 12,  4,  8])]"
      ]
     },
     "execution_count": 10,
     "metadata": {},
     "output_type": "execute_result"
    }
   ],
   "source": [
    " np.split(a,[2,5,8])"
   ]
  },
  {
   "cell_type": "code",
   "execution_count": 13,
   "id": "10421bae-d815-4cb9-98b6-d2360cbf2640",
   "metadata": {},
   "outputs": [
    {
     "name": "stdout",
     "output_type": "stream",
     "text": [
      "1. ve 2. sıradaki veri :  [12 10]\n",
      "3., 4. ve 5. sıradaki veri :  [16  1  1]\n",
      "6., 7. ve 8. sıradaki veri :  [ 8 14 14]\n",
      "9., 10., 11. ve 12. sıradaki veri :  [ 4 12  4  8]\n"
     ]
    }
   ],
   "source": [
    "x,y,z,q = np.split(a,[2,5,8])\n",
    "print(\"1. ve 2. sıradaki veri : \", x)\n",
    "print(\"3., 4. ve 5. sıradaki veri : \", y)\n",
    "print(\"6., 7. ve 8. sıradaki veri : \", z)\n",
    "print(\"9., 10., 11. ve 12. sıradaki veri : \", q)"
   ]
  },
  {
   "cell_type": "code",
   "execution_count": 28,
   "id": "d4dfc08b-4b88-4ffe-8b08-2d61970fb151",
   "metadata": {},
   "outputs": [
    {
     "data": {
      "text/plain": [
       "array([[ 7,  8,  4,  6],\n",
       "       [ 1, 10,  9,  7],\n",
       "       [ 7,  4, 10,  0]])"
      ]
     },
     "execution_count": 28,
     "metadata": {},
     "output_type": "execute_result"
    }
   ],
   "source": [
    "b = np.random.randint(0,12,12).reshape(3,4)\n",
    "b"
   ]
  },
  {
   "cell_type": "code",
   "execution_count": 29,
   "id": "d502ddb4-6931-4b88-a819-b35366d6940d",
   "metadata": {},
   "outputs": [
    {
     "data": {
      "text/plain": [
       "[array([[7, 8, 4, 6]]),\n",
       " array([[ 1, 10,  9,  7],\n",
       "        [ 7,  4, 10,  0]])]"
      ]
     },
     "execution_count": 29,
     "metadata": {},
     "output_type": "execute_result"
    }
   ],
   "source": [
    "np.split(b,[1])"
   ]
  },
  {
   "cell_type": "code",
   "execution_count": 30,
   "id": "3046b74a-54de-4e79-b208-599829182aa7",
   "metadata": {},
   "outputs": [
    {
     "data": {
      "text/plain": [
       "[array([[7, 8, 4, 6]]), array([[ 1, 10,  9,  7]]), array([[ 7,  4, 10,  0]])]"
      ]
     },
     "execution_count": 30,
     "metadata": {},
     "output_type": "execute_result"
    }
   ],
   "source": [
    "np.split(b,[1,2])"
   ]
  },
  {
   "cell_type": "code",
   "execution_count": 31,
   "id": "a661c364-c3c9-4d45-8f0a-e492df84ab89",
   "metadata": {},
   "outputs": [
    {
     "data": {
      "text/plain": [
       "[array([[ 7,  8,  4,  6],\n",
       "        [ 1, 10,  9,  7]]),\n",
       " array([[ 7,  4, 10,  0]])]"
      ]
     },
     "execution_count": 31,
     "metadata": {},
     "output_type": "execute_result"
    }
   ],
   "source": [
    "np.split(b,[2])"
   ]
  },
  {
   "cell_type": "code",
   "execution_count": 32,
   "id": "22134a8d-f0fc-4445-91a1-d7c3e5bf4760",
   "metadata": {},
   "outputs": [
    {
     "data": {
      "text/plain": [
       "[array([[7],\n",
       "        [1],\n",
       "        [7]]),\n",
       " array([[ 8,  4,  6],\n",
       "        [10,  9,  7],\n",
       "        [ 4, 10,  0]])]"
      ]
     },
     "execution_count": 32,
     "metadata": {},
     "output_type": "execute_result"
    }
   ],
   "source": [
    "np.hsplit(b,[1]) #hsplit komutu ile sütun olarak bölüyor. düz split yazınca satır olarak bölüyor."
   ]
  }
 ],
 "metadata": {
  "kernelspec": {
   "display_name": "Python 3 (ipykernel)",
   "language": "python",
   "name": "python3"
  },
  "language_info": {
   "codemirror_mode": {
    "name": "ipython",
    "version": 3
   },
   "file_extension": ".py",
   "mimetype": "text/x-python",
   "name": "python",
   "nbconvert_exporter": "python",
   "pygments_lexer": "ipython3",
   "version": "3.11.7"
  }
 },
 "nbformat": 4,
 "nbformat_minor": 5
}
