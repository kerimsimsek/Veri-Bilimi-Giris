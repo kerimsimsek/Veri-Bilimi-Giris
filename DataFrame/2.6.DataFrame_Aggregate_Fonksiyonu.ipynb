{
 "cells": [
  {
   "cell_type": "code",
   "execution_count": 1,
   "id": "62c89d18-cb61-49f8-af3f-6c1091c877cb",
   "metadata": {},
   "outputs": [],
   "source": [
    "import pandas as pd\n",
    "import numpy as np"
   ]
  },
  {
   "cell_type": "code",
   "execution_count": 2,
   "id": "983ba4d9-129f-4625-a721-6566f9ac728a",
   "metadata": {},
   "outputs": [
    {
     "data": {
      "text/html": [
       "<div>\n",
       "<style scoped>\n",
       "    .dataframe tbody tr th:only-of-type {\n",
       "        vertical-align: middle;\n",
       "    }\n",
       "\n",
       "    .dataframe tbody tr th {\n",
       "        vertical-align: top;\n",
       "    }\n",
       "\n",
       "    .dataframe thead th {\n",
       "        text-align: right;\n",
       "    }\n",
       "</style>\n",
       "<table border=\"1\" class=\"dataframe\">\n",
       "  <thead>\n",
       "    <tr style=\"text-align: right;\">\n",
       "      <th></th>\n",
       "      <th>Takımlar</th>\n",
       "      <th>Attığı Goller</th>\n",
       "      <th>Yediği Goller</th>\n",
       "    </tr>\n",
       "  </thead>\n",
       "  <tbody>\n",
       "    <tr>\n",
       "      <th>0</th>\n",
       "      <td>Galatasaray</td>\n",
       "      <td>188</td>\n",
       "      <td>70</td>\n",
       "    </tr>\n",
       "    <tr>\n",
       "      <th>1</th>\n",
       "      <td>Fenerbahçe</td>\n",
       "      <td>192</td>\n",
       "      <td>76</td>\n",
       "    </tr>\n",
       "    <tr>\n",
       "      <th>2</th>\n",
       "      <td>Beşiktaş</td>\n",
       "      <td>176</td>\n",
       "      <td>68</td>\n",
       "    </tr>\n",
       "    <tr>\n",
       "      <th>3</th>\n",
       "      <td>Galatasaray</td>\n",
       "      <td>194</td>\n",
       "      <td>82</td>\n",
       "    </tr>\n",
       "    <tr>\n",
       "      <th>4</th>\n",
       "      <td>Fenerbahçe</td>\n",
       "      <td>190</td>\n",
       "      <td>70</td>\n",
       "    </tr>\n",
       "    <tr>\n",
       "      <th>5</th>\n",
       "      <td>Beşiktaş</td>\n",
       "      <td>189</td>\n",
       "      <td>60</td>\n",
       "    </tr>\n",
       "  </tbody>\n",
       "</table>\n",
       "</div>"
      ],
      "text/plain": [
       "      Takımlar  Attığı Goller  Yediği Goller\n",
       "0  Galatasaray            188             70\n",
       "1   Fenerbahçe            192             76\n",
       "2     Beşiktaş            176             68\n",
       "3  Galatasaray            194             82\n",
       "4   Fenerbahçe            190             70\n",
       "5     Beşiktaş            189             60"
      ]
     },
     "execution_count": 2,
     "metadata": {},
     "output_type": "execute_result"
    }
   ],
   "source": [
    "df = pd.DataFrame({\n",
    "    \"Takımlar\":[\"Galatasaray\",\"Fenerbahçe\",\"Beşiktaş\",\"Galatasaray\",\"Fenerbahçe\",\"Beşiktaş\"],\n",
    "    \"Attığı Goller\":[188,192,176,194,190,189],\n",
    "    \"Yediği Goller\":[70,76,68,82,70,60]\n",
    "})\n",
    "df"
   ]
  },
  {
   "cell_type": "code",
   "execution_count": 4,
   "id": "400f79ef-74d6-4856-aee7-d9378deb4e76",
   "metadata": {},
   "outputs": [
    {
     "data": {
      "text/plain": [
       "<pandas.core.groupby.generic.DataFrameGroupBy object at 0x000002171B05AD10>"
      ]
     },
     "execution_count": 4,
     "metadata": {},
     "output_type": "execute_result"
    }
   ],
   "source": [
    "df.groupby(\"Takımlar\")"
   ]
  },
  {
   "cell_type": "code",
   "execution_count": 5,
   "id": "bf41e8b3-110b-438a-ac7e-6729a7e156fc",
   "metadata": {},
   "outputs": [
    {
     "name": "stderr",
     "output_type": "stream",
     "text": [
      "C:\\Users\\gfbke\\AppData\\Local\\Temp\\ipykernel_8256\\3267177250.py:1: FutureWarning: The provided callable <function median at 0x0000021718CD1E40> is currently using SeriesGroupBy.median. In a future version of pandas, the provided callable will be used directly. To keep current behavior pass the string \"median\" instead.\n",
      "  df.groupby(\"Takımlar\").aggregate([\"min\",np.median,max])\n",
      "C:\\Users\\gfbke\\AppData\\Local\\Temp\\ipykernel_8256\\3267177250.py:1: FutureWarning: The provided callable <built-in function max> is currently using SeriesGroupBy.max. In a future version of pandas, the provided callable will be used directly. To keep current behavior pass the string \"max\" instead.\n",
      "  df.groupby(\"Takımlar\").aggregate([\"min\",np.median,max])\n"
     ]
    },
    {
     "data": {
      "text/html": [
       "<div>\n",
       "<style scoped>\n",
       "    .dataframe tbody tr th:only-of-type {\n",
       "        vertical-align: middle;\n",
       "    }\n",
       "\n",
       "    .dataframe tbody tr th {\n",
       "        vertical-align: top;\n",
       "    }\n",
       "\n",
       "    .dataframe thead tr th {\n",
       "        text-align: left;\n",
       "    }\n",
       "\n",
       "    .dataframe thead tr:last-of-type th {\n",
       "        text-align: right;\n",
       "    }\n",
       "</style>\n",
       "<table border=\"1\" class=\"dataframe\">\n",
       "  <thead>\n",
       "    <tr>\n",
       "      <th></th>\n",
       "      <th colspan=\"3\" halign=\"left\">Attığı Goller</th>\n",
       "      <th colspan=\"3\" halign=\"left\">Yediği Goller</th>\n",
       "    </tr>\n",
       "    <tr>\n",
       "      <th></th>\n",
       "      <th>min</th>\n",
       "      <th>median</th>\n",
       "      <th>max</th>\n",
       "      <th>min</th>\n",
       "      <th>median</th>\n",
       "      <th>max</th>\n",
       "    </tr>\n",
       "    <tr>\n",
       "      <th>Takımlar</th>\n",
       "      <th></th>\n",
       "      <th></th>\n",
       "      <th></th>\n",
       "      <th></th>\n",
       "      <th></th>\n",
       "      <th></th>\n",
       "    </tr>\n",
       "  </thead>\n",
       "  <tbody>\n",
       "    <tr>\n",
       "      <th>Beşiktaş</th>\n",
       "      <td>176</td>\n",
       "      <td>182.5</td>\n",
       "      <td>189</td>\n",
       "      <td>60</td>\n",
       "      <td>64.0</td>\n",
       "      <td>68</td>\n",
       "    </tr>\n",
       "    <tr>\n",
       "      <th>Fenerbahçe</th>\n",
       "      <td>190</td>\n",
       "      <td>191.0</td>\n",
       "      <td>192</td>\n",
       "      <td>70</td>\n",
       "      <td>73.0</td>\n",
       "      <td>76</td>\n",
       "    </tr>\n",
       "    <tr>\n",
       "      <th>Galatasaray</th>\n",
       "      <td>188</td>\n",
       "      <td>191.0</td>\n",
       "      <td>194</td>\n",
       "      <td>70</td>\n",
       "      <td>76.0</td>\n",
       "      <td>82</td>\n",
       "    </tr>\n",
       "  </tbody>\n",
       "</table>\n",
       "</div>"
      ],
      "text/plain": [
       "            Attığı Goller             Yediği Goller           \n",
       "                      min median  max           min median max\n",
       "Takımlar                                                      \n",
       "Beşiktaş              176  182.5  189            60   64.0  68\n",
       "Fenerbahçe            190  191.0  192            70   73.0  76\n",
       "Galatasaray           188  191.0  194            70   76.0  82"
      ]
     },
     "execution_count": 5,
     "metadata": {},
     "output_type": "execute_result"
    }
   ],
   "source": [
    "df.groupby(\"Takımlar\").aggregate([\"min\",np.median,max])"
   ]
  }
 ],
 "metadata": {
  "kernelspec": {
   "display_name": "Python 3 (ipykernel)",
   "language": "python",
   "name": "python3"
  },
  "language_info": {
   "codemirror_mode": {
    "name": "ipython",
    "version": 3
   },
   "file_extension": ".py",
   "mimetype": "text/x-python",
   "name": "python",
   "nbconvert_exporter": "python",
   "pygments_lexer": "ipython3",
   "version": "3.11.7"
  }
 },
 "nbformat": 4,
 "nbformat_minor": 5
}
