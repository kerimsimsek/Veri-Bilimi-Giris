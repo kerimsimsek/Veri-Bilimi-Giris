{
 "cells": [
  {
   "cell_type": "code",
   "execution_count": 1,
   "id": "f98f30c5-514c-46fe-a5b4-94f9f59830a3",
   "metadata": {},
   "outputs": [],
   "source": [
    "import pandas as pd\n",
    "import numpy as np"
   ]
  },
  {
   "cell_type": "code",
   "execution_count": 2,
   "id": "d491c27b-3228-4768-b6fe-3470567506f5",
   "metadata": {},
   "outputs": [],
   "source": [
    "seri1=pd.Series((10,20,30,40,50,60)) #seri1 isimli dizi oluşturdum."
   ]
  },
  {
   "cell_type": "code",
   "execution_count": 3,
   "id": "21d9d802-1fb8-4491-9245-e10b0b7084b5",
   "metadata": {},
   "outputs": [
    {
     "data": {
      "text/plain": [
       "0    10\n",
       "1    20\n",
       "2    30\n",
       "3    40\n",
       "4    50\n",
       "5    60\n",
       "dtype: int64"
      ]
     },
     "execution_count": 3,
     "metadata": {},
     "output_type": "execute_result"
    }
   ],
   "source": [
    "seri1 #seri1 dizisini ekrana yazdırdım."
   ]
  },
  {
   "cell_type": "code",
   "execution_count": 4,
   "id": "4337f269-7efe-4bda-833a-ef1d53ab1edc",
   "metadata": {},
   "outputs": [
    {
     "data": {
      "text/plain": [
       "0    False\n",
       "1    False\n",
       "2    False\n",
       "3     True\n",
       "4     True\n",
       "5     True\n",
       "dtype: bool"
      ]
     },
     "execution_count": 4,
     "metadata": {},
     "output_type": "execute_result"
    }
   ],
   "source": [
    "seri1>30 #seri1 dizisindeki 30 dan büyük verileri true küçük verileri ise false değerini döndürür."
   ]
  },
  {
   "cell_type": "code",
   "execution_count": 6,
   "id": "24f569db-41fd-4e52-8045-f22d140f74f4",
   "metadata": {},
   "outputs": [
    {
     "data": {
      "text/plain": [
       "0     True\n",
       "1     True\n",
       "2    False\n",
       "3    False\n",
       "4    False\n",
       "5    False\n",
       "dtype: bool"
      ]
     },
     "execution_count": 6,
     "metadata": {},
     "output_type": "execute_result"
    }
   ],
   "source": [
    "seri1<30 #seri1 dizisindeki 30 dan küçük verileri true büyük verileri ise false değerini döndürür."
   ]
  },
  {
   "cell_type": "code",
   "execution_count": 7,
   "id": "ec0c3c26-ed33-4d25-adbd-1c6af1e0fdf5",
   "metadata": {},
   "outputs": [
    {
     "data": {
      "text/plain": [
       "0    False\n",
       "1    False\n",
       "2     True\n",
       "3    False\n",
       "4    False\n",
       "5    False\n",
       "dtype: bool"
      ]
     },
     "execution_count": 7,
     "metadata": {},
     "output_type": "execute_result"
    }
   ],
   "source": [
    "seri1 == 30 #seri1 dizisindeki 30'a eşit olan verileri true eşit olmayan verileri ise false değerini döndürür."
   ]
  },
  {
   "cell_type": "code",
   "execution_count": 8,
   "id": "e2019a47-d85b-4a99-bb55-d4f0a0622a1e",
   "metadata": {},
   "outputs": [
    {
     "data": {
      "text/plain": [
       "1    20\n",
       "2    30\n",
       "3    40\n",
       "dtype: int64"
      ]
     },
     "execution_count": 8,
     "metadata": {},
     "output_type": "execute_result"
    }
   ],
   "source": [
    "seri1[(seri1>15)&(seri1<45)] #seri1 dizisindeki 15'den büyük verileri ve 45'den küçük verileri ekrana yazdırır."
   ]
  },
  {
   "cell_type": "markdown",
   "id": "3a23ffb1-3440-4632-9647-9f50d708ad98",
   "metadata": {},
   "source": [
    "---"
   ]
  },
  {
   "cell_type": "code",
   "execution_count": 9,
   "id": "f6b0723b-e001-4772-a7f9-262508932432",
   "metadata": {},
   "outputs": [],
   "source": [
    "seri2=pd.Series((1,2,3,4)) #seri2 isimli dizi tanımladım."
   ]
  },
  {
   "cell_type": "code",
   "execution_count": 10,
   "id": "2cc12609-c93d-40ed-934e-d9000483b85d",
   "metadata": {},
   "outputs": [
    {
     "data": {
      "text/plain": [
       "0    1\n",
       "1    2\n",
       "2    3\n",
       "3    4\n",
       "dtype: int64"
      ]
     },
     "execution_count": 10,
     "metadata": {},
     "output_type": "execute_result"
    }
   ],
   "source": [
    "seri2 #diziyi yazdırdım."
   ]
  },
  {
   "cell_type": "code",
   "execution_count": 11,
   "id": "33916001-5513-41fd-8b55-384d33887bab",
   "metadata": {},
   "outputs": [
    {
     "data": {
      "text/plain": [
       "0    3\n",
       "1    4\n",
       "2    5\n",
       "3    6\n",
       "dtype: int64"
      ]
     },
     "execution_count": 11,
     "metadata": {},
     "output_type": "execute_result"
    }
   ],
   "source": [
    "seri2+2 #dizinin her bir verisi 2 ile toplattım."
   ]
  },
  {
   "cell_type": "code",
   "execution_count": 12,
   "id": "c4140033-5266-4aa3-8799-4db0e029ab23",
   "metadata": {},
   "outputs": [
    {
     "data": {
      "text/plain": [
       "0     5\n",
       "1    10\n",
       "2    15\n",
       "3    20\n",
       "dtype: int64"
      ]
     },
     "execution_count": 12,
     "metadata": {},
     "output_type": "execute_result"
    }
   ],
   "source": [
    "seri2*5 #dizinin her bir verisi 5 ile çarpma işlemi yaptırdım."
   ]
  },
  {
   "cell_type": "markdown",
   "id": "fa702b6e-d142-40bb-afa6-a29e329254d8",
   "metadata": {},
   "source": [
    "----"
   ]
  },
  {
   "cell_type": "code",
   "execution_count": 13,
   "id": "1fb18705-52cf-4cff-8fb8-52c0a58ffa12",
   "metadata": {},
   "outputs": [],
   "source": [
    "#seri3 dizisi tanımladım ve indekslerini string olarak değiştirdim.\n",
    "seri3 =pd.Series([4,2,6,8,5],index=(\"elma\",\"armut\",\"üzüm\",\"çilek\",\"erik\"))\n",
    "#seri4 dizisi tanımladım ve indekslerini string olarak değiştirdim.\n",
    "seri4 =pd.Series([5,6,1,3,7],index=(\"üzüm\",\"elma\",\"armut\",\"erik\",\"çilek\"))"
   ]
  },
  {
   "cell_type": "code",
   "execution_count": 14,
   "id": "52e32e9f-6165-4f95-871d-847a60876dd1",
   "metadata": {},
   "outputs": [
    {
     "data": {
      "text/plain": [
       "elma     4\n",
       "armut    2\n",
       "üzüm     6\n",
       "çilek    8\n",
       "erik     5\n",
       "dtype: int64"
      ]
     },
     "execution_count": 14,
     "metadata": {},
     "output_type": "execute_result"
    }
   ],
   "source": [
    "seri3"
   ]
  },
  {
   "cell_type": "code",
   "execution_count": 15,
   "id": "6e2abd60-0260-4bc2-8f23-65d53e43f8e3",
   "metadata": {},
   "outputs": [
    {
     "data": {
      "text/plain": [
       "üzüm     5\n",
       "elma     6\n",
       "armut    1\n",
       "erik     3\n",
       "çilek    7\n",
       "dtype: int64"
      ]
     },
     "execution_count": 15,
     "metadata": {},
     "output_type": "execute_result"
    }
   ],
   "source": [
    "seri4"
   ]
  },
  {
   "cell_type": "code",
   "execution_count": 16,
   "id": "8250de1a-4fb6-411c-8bd8-6f8b534e211b",
   "metadata": {},
   "outputs": [
    {
     "data": {
      "text/plain": [
       "armut     3\n",
       "elma     10\n",
       "erik      8\n",
       "çilek    15\n",
       "üzüm     11\n",
       "dtype: int64"
      ]
     },
     "execution_count": 16,
     "metadata": {},
     "output_type": "execute_result"
    }
   ],
   "source": [
    "seri3 + seri4 #dizilerin aynı indekse sahip olan verileri toplattım."
   ]
  },
  {
   "cell_type": "code",
   "execution_count": 17,
   "id": "d59dadca-1000-4320-8936-4851dc24cb65",
   "metadata": {},
   "outputs": [],
   "source": [
    "#seri5 dizisi tanımladım ve indekslerini string olarak değiştirdim.\n",
    "seri5 =pd.Series([4,2,6,8,5],index=(\"elma\",\"armut\",\"üzüm\",\"çilek\",\"erik\"))\n",
    "#seri6 dizisi tanımladım ve indekslerini string olarak değiştirdim.\n",
    "seri6 =pd.Series([5,6,1,3,7],index=(\"üzüm\",\"elma\",\"armut\",\"erik\",\"kayısı\"))"
   ]
  },
  {
   "cell_type": "code",
   "execution_count": 18,
   "id": "3eb63d06-49a1-41d1-8b88-e59d6b82c7e9",
   "metadata": {},
   "outputs": [
    {
     "data": {
      "text/plain": [
       "armut      3.0\n",
       "elma      10.0\n",
       "erik       8.0\n",
       "kayısı     NaN\n",
       "çilek      NaN\n",
       "üzüm      11.0\n",
       "dtype: float64"
      ]
     },
     "execution_count": 18,
     "metadata": {},
     "output_type": "execute_result"
    }
   ],
   "source": [
    "seri5 + seri6 #dizilerin aynı indekse sahip olan verileri toplattım. Fakat Kayısı ile Çilek indeksine ait verileri NaN değerini döndürdü. Nedeni iki dizede de aynı indeks olmadığı için."
   ]
  },
  {
   "cell_type": "markdown",
   "id": "4ffdb15e-5afa-4b4b-a632-3b24aad82624",
   "metadata": {},
   "source": [
    "----"
   ]
  },
  {
   "cell_type": "code",
   "execution_count": 19,
   "id": "16538954-eb0f-4c49-94af-3f9561534350",
   "metadata": {},
   "outputs": [],
   "source": [
    "seri7 = pd.Series((1,2,3,4,5,6,7,8,9))"
   ]
  },
  {
   "cell_type": "code",
   "execution_count": 20,
   "id": "e7a77f4e-2938-4940-bb02-9d156ce4fcf8",
   "metadata": {},
   "outputs": [
    {
     "data": {
      "text/plain": [
       "0    1\n",
       "1    2\n",
       "2    3\n",
       "3    4\n",
       "4    5\n",
       "5    6\n",
       "6    7\n",
       "7    8\n",
       "8    9\n",
       "dtype: int64"
      ]
     },
     "execution_count": 20,
     "metadata": {},
     "output_type": "execute_result"
    }
   ],
   "source": [
    "seri7"
   ]
  },
  {
   "cell_type": "code",
   "execution_count": 21,
   "id": "ac0781ae-fa92-401a-a530-fb136828e5f0",
   "metadata": {},
   "outputs": [
    {
     "data": {
      "text/plain": [
       "45"
      ]
     },
     "execution_count": 21,
     "metadata": {},
     "output_type": "execute_result"
    }
   ],
   "source": [
    "seri7.sum() #dizideki verileri toplattım."
   ]
  },
  {
   "cell_type": "code",
   "execution_count": 22,
   "id": "e987a1fd-68e5-4dba-a861-60ff7ab3393a",
   "metadata": {},
   "outputs": [
    {
     "data": {
      "text/plain": [
       "9"
      ]
     },
     "execution_count": 22,
     "metadata": {},
     "output_type": "execute_result"
    }
   ],
   "source": [
    "seri7.max() #dizideki en büyük veriyi ekrana yazdırdım."
   ]
  },
  {
   "cell_type": "code",
   "execution_count": 23,
   "id": "b90b5e3d-1a42-4974-8f61-f6aedc668e17",
   "metadata": {},
   "outputs": [
    {
     "data": {
      "text/plain": [
       "1"
      ]
     },
     "execution_count": 23,
     "metadata": {},
     "output_type": "execute_result"
    }
   ],
   "source": [
    "seri7.min() #dizideki en küçük veriyi ekrana yazdırdım."
   ]
  },
  {
   "cell_type": "code",
   "execution_count": 24,
   "id": "077d9c1c-a4a1-401d-9e52-ab3222e5f699",
   "metadata": {},
   "outputs": [
    {
     "data": {
      "text/plain": [
       "5.0"
      ]
     },
     "execution_count": 24,
     "metadata": {},
     "output_type": "execute_result"
    }
   ],
   "source": [
    "seri7.median() #dizideki verilerin medyanını hesaplattım."
   ]
  },
  {
   "cell_type": "code",
   "execution_count": 25,
   "id": "43c6f91e-f9c9-453f-8734-8e526bf30236",
   "metadata": {},
   "outputs": [
    {
     "data": {
      "text/plain": [
       "2.7386127875258306"
      ]
     },
     "execution_count": 25,
     "metadata": {},
     "output_type": "execute_result"
    }
   ],
   "source": [
    "seri7.std() #dizinin standart sapmasını hesaplattım."
   ]
  },
  {
   "cell_type": "code",
   "execution_count": 27,
   "id": "266f3c1c-c70a-47be-8ae6-343182f8f512",
   "metadata": {},
   "outputs": [
    {
     "data": {
      "text/plain": [
       "5.0"
      ]
     },
     "execution_count": 27,
     "metadata": {},
     "output_type": "execute_result"
    }
   ],
   "source": [
    "seri7.mean() #dizideki verilerin ortalamasını aldırdım."
   ]
  }
 ],
 "metadata": {
  "kernelspec": {
   "display_name": "Python 3 (ipykernel)",
   "language": "python",
   "name": "python3"
  },
  "language_info": {
   "codemirror_mode": {
    "name": "ipython",
    "version": 3
   },
   "file_extension": ".py",
   "mimetype": "text/x-python",
   "name": "python",
   "nbconvert_exporter": "python",
   "pygments_lexer": "ipython3",
   "version": "3.11.7"
  }
 },
 "nbformat": 4,
 "nbformat_minor": 5
}
