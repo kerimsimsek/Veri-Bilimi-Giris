{
 "cells": [
  {
   "cell_type": "code",
   "execution_count": 1,
   "id": "f98f30c5-514c-46fe-a5b4-94f9f59830a3",
   "metadata": {},
   "outputs": [],
   "source": [
    "import pandas as pd\n",
    "import numpy as np"
   ]
  },
  {
   "cell_type": "code",
   "execution_count": 2,
   "id": "d491c27b-3228-4768-b6fe-3470567506f5",
   "metadata": {},
   "outputs": [
    {
     "data": {
      "text/plain": [
       "0    1\n",
       "1    2\n",
       "2    3\n",
       "3    4\n",
       "4    5\n",
       "dtype: int64"
      ]
     },
     "execution_count": 2,
     "metadata": {},
     "output_type": "execute_result"
    }
   ],
   "source": [
    "pd.Series([1,2,3,4,5]) #köşeli parantez + normal parantez de olur."
   ]
  },
  {
   "cell_type": "code",
   "execution_count": 3,
   "id": "21d9d802-1fb8-4491-9245-e10b0b7084b5",
   "metadata": {},
   "outputs": [
    {
     "data": {
      "text/plain": [
       "0    1\n",
       "1    2\n",
       "2    3\n",
       "3    4\n",
       "4    5\n",
       "dtype: int64"
      ]
     },
     "execution_count": 3,
     "metadata": {},
     "output_type": "execute_result"
    }
   ],
   "source": [
    "pd.Series((1,2,3,4,5)) #normal parantez + normal parantez de olur."
   ]
  },
  {
   "cell_type": "code",
   "execution_count": 4,
   "id": "13338649-0a93-40ff-9b8e-c86f6e3db994",
   "metadata": {},
   "outputs": [],
   "source": [
    "seri = pd.Series([\"Ankara\",\"İstanbul\",\"İzmir\",\"Antalya\",\"Bursa\"])"
   ]
  },
  {
   "cell_type": "code",
   "execution_count": 5,
   "id": "8a36b70c-9ede-478b-990c-5ff983ebac96",
   "metadata": {},
   "outputs": [
    {
     "data": {
      "text/plain": [
       "0      Ankara\n",
       "1    İstanbul\n",
       "2       İzmir\n",
       "3     Antalya\n",
       "4       Bursa\n",
       "dtype: object"
      ]
     },
     "execution_count": 5,
     "metadata": {},
     "output_type": "execute_result"
    }
   ],
   "source": [
    "seri"
   ]
  },
  {
   "cell_type": "code",
   "execution_count": 6,
   "id": "ebca6556-e800-430c-bd72-0d7e60205959",
   "metadata": {},
   "outputs": [
    {
     "data": {
      "text/plain": [
       "0    1.1\n",
       "1    2.0\n",
       "2    3.0\n",
       "3    4.0\n",
       "4    5.0\n",
       "dtype: float64"
      ]
     },
     "execution_count": 6,
     "metadata": {},
     "output_type": "execute_result"
    }
   ],
   "source": [
    "pd.Series((1.1,2,3,4,5)) #dizinin içinde bir tane float ifade olunca hepsine float olarak algılıyor."
   ]
  },
  {
   "cell_type": "code",
   "execution_count": 7,
   "id": "2ad21bc4-fa31-4109-bba4-eb1b6cffa22d",
   "metadata": {},
   "outputs": [],
   "source": [
    "sehir = pd.Series([\"Ankara\",\"İstanbul\",\"İzmir\",\"Antalya\",\"Bursa\",3,6,9])"
   ]
  },
  {
   "cell_type": "code",
   "execution_count": 8,
   "id": "e1488d60-ed49-4714-b594-96b7757d550a",
   "metadata": {},
   "outputs": [
    {
     "data": {
      "text/plain": [
       "0      Ankara\n",
       "1    İstanbul\n",
       "2       İzmir\n",
       "3     Antalya\n",
       "4       Bursa\n",
       "5           3\n",
       "6           6\n",
       "7           9\n",
       "dtype: object"
      ]
     },
     "execution_count": 8,
     "metadata": {},
     "output_type": "execute_result"
    }
   ],
   "source": [
    "sehir #dizinin içinde string ifade olunca sayıyıda object olarak tanımlıyor."
   ]
  },
  {
   "cell_type": "markdown",
   "id": "ff86d2ac-5f1b-4c4d-839d-a06960da6293",
   "metadata": {},
   "source": [
    "----"
   ]
  },
  {
   "cell_type": "code",
   "execution_count": 13,
   "id": "dc85aa48-bff9-42e7-8d0d-3b0f6d22838a",
   "metadata": {},
   "outputs": [],
   "source": [
    "liste=[1,2,3,4,5,6,7]\n",
    "seri1 = pd.Series(liste) # normalde iki tane parantez kullanılır fakat listenin kendi parantezi olduğu için tek parantez yeterli."
   ]
  },
  {
   "cell_type": "code",
   "execution_count": 14,
   "id": "4a23a5cd-b4d6-4c57-b781-f2f0906132f0",
   "metadata": {},
   "outputs": [
    {
     "data": {
      "text/plain": [
       "0    1\n",
       "1    2\n",
       "2    3\n",
       "3    4\n",
       "4    5\n",
       "5    6\n",
       "6    7\n",
       "dtype: int64"
      ]
     },
     "execution_count": 14,
     "metadata": {},
     "output_type": "execute_result"
    }
   ],
   "source": [
    "seri1"
   ]
  },
  {
   "cell_type": "markdown",
   "id": "a4268f6c-5743-449e-83c2-dacf720d1eb7",
   "metadata": {},
   "source": [
    "----"
   ]
  },
  {
   "cell_type": "code",
   "execution_count": 15,
   "id": "c6240d20-48a4-4b45-9509-bab169d4e1da",
   "metadata": {},
   "outputs": [
    {
     "data": {
      "text/plain": [
       "array([1, 2, 3, 4, 5])"
      ]
     },
     "execution_count": 15,
     "metadata": {},
     "output_type": "execute_result"
    }
   ],
   "source": [
    "a=np.arange(1,6) #Numpy ile oluşturulan diziyi\n",
    "a"
   ]
  },
  {
   "cell_type": "code",
   "execution_count": 16,
   "id": "29b41421-06a9-4b59-bf5d-c7f91b27090a",
   "metadata": {},
   "outputs": [
    {
     "data": {
      "text/plain": [
       "0    1\n",
       "1    2\n",
       "2    3\n",
       "3    4\n",
       "4    5\n",
       "dtype: int32"
      ]
     },
     "execution_count": 16,
     "metadata": {},
     "output_type": "execute_result"
    }
   ],
   "source": [
    "seri2 = pd.Series(a) #Pandasa çevirerek ekrana yazdırdım.\n",
    "seri2"
   ]
  }
 ],
 "metadata": {
  "kernelspec": {
   "display_name": "Python 3 (ipykernel)",
   "language": "python",
   "name": "python3"
  },
  "language_info": {
   "codemirror_mode": {
    "name": "ipython",
    "version": 3
   },
   "file_extension": ".py",
   "mimetype": "text/x-python",
   "name": "python",
   "nbconvert_exporter": "python",
   "pygments_lexer": "ipython3",
   "version": "3.11.7"
  }
 },
 "nbformat": 4,
 "nbformat_minor": 5
}
