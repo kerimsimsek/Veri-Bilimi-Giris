{
 "cells": [
  {
   "cell_type": "code",
   "execution_count": 1,
   "id": "f98f30c5-514c-46fe-a5b4-94f9f59830a3",
   "metadata": {},
   "outputs": [],
   "source": [
    "import pandas as pd\n",
    "import numpy as np"
   ]
  },
  {
   "cell_type": "code",
   "execution_count": 3,
   "id": "724450da-83a6-4321-88d3-c9b912d8e682",
   "metadata": {},
   "outputs": [],
   "source": [
    "seri=pd.Series((1,2,3,4,5,6))"
   ]
  },
  {
   "cell_type": "code",
   "execution_count": 4,
   "id": "21d9d802-1fb8-4491-9245-e10b0b7084b5",
   "metadata": {},
   "outputs": [
    {
     "data": {
      "text/plain": [
       "0    1\n",
       "1    2\n",
       "2    3\n",
       "3    4\n",
       "4    5\n",
       "5    6\n",
       "dtype: int64"
      ]
     },
     "execution_count": 4,
     "metadata": {},
     "output_type": "execute_result"
    }
   ],
   "source": [
    "seri"
   ]
  },
  {
   "cell_type": "code",
   "execution_count": 5,
   "id": "b32685ee-f090-45a4-abfa-74332891eb4d",
   "metadata": {},
   "outputs": [
    {
     "data": {
      "text/plain": [
       "pandas.core.series.Series"
      ]
     },
     "execution_count": 5,
     "metadata": {},
     "output_type": "execute_result"
    }
   ],
   "source": [
    "type(seri) #bu komut ile de dizi pandas mı numpy mi olduğunu öğreniriz."
   ]
  },
  {
   "cell_type": "code",
   "execution_count": 7,
   "id": "c6223a01-b175-480e-b03a-83a3ff512bd9",
   "metadata": {},
   "outputs": [
    {
     "data": {
      "text/plain": [
       "[RangeIndex(start=0, stop=6, step=1)]"
      ]
     },
     "execution_count": 7,
     "metadata": {},
     "output_type": "execute_result"
    }
   ],
   "source": [
    "seri.axes #dizinin kaçtan başlıdığı, kaçta durdurduğu ve kaçar kaçar gittiğini gösterir."
   ]
  },
  {
   "cell_type": "code",
   "execution_count": 8,
   "id": "e239e056-3478-466f-864b-b8fffae77478",
   "metadata": {},
   "outputs": [
    {
     "data": {
      "text/plain": [
       "dtype('int64')"
      ]
     },
     "execution_count": 8,
     "metadata": {},
     "output_type": "execute_result"
    }
   ],
   "source": [
    "seri.dtype #dizinin veri tipini söyler."
   ]
  },
  {
   "cell_type": "code",
   "execution_count": 9,
   "id": "a63400f2-c3dc-40ff-860a-041aa4624806",
   "metadata": {},
   "outputs": [
    {
     "data": {
      "text/plain": [
       "1"
      ]
     },
     "execution_count": 9,
     "metadata": {},
     "output_type": "execute_result"
    }
   ],
   "source": [
    "seri.ndim #dizinin boyutunu söyler."
   ]
  },
  {
   "cell_type": "code",
   "execution_count": 10,
   "id": "97e310a5-01bd-47fd-8b3a-65a7a49405ed",
   "metadata": {},
   "outputs": [
    {
     "data": {
      "text/plain": [
       "6"
      ]
     },
     "execution_count": 10,
     "metadata": {},
     "output_type": "execute_result"
    }
   ],
   "source": [
    "seri.size #dizinin kaç tane verisi olduğunu söyler."
   ]
  },
  {
   "cell_type": "code",
   "execution_count": 11,
   "id": "930a0724-8d23-4adc-98c2-ee2ef51439fb",
   "metadata": {},
   "outputs": [
    {
     "data": {
      "text/plain": [
       "(6,)"
      ]
     },
     "execution_count": 11,
     "metadata": {},
     "output_type": "execute_result"
    }
   ],
   "source": [
    "seri.shape "
   ]
  },
  {
   "cell_type": "code",
   "execution_count": 12,
   "id": "a0e792a3-b96c-4c35-a839-513887973ff5",
   "metadata": {},
   "outputs": [
    {
     "data": {
      "text/plain": [
       "array([1, 2, 3, 4, 5, 6], dtype=int64)"
      ]
     },
     "execution_count": 12,
     "metadata": {},
     "output_type": "execute_result"
    }
   ],
   "source": [
    "seri.values #Pandas dizisini ekrana yazdırırken indeksleri göstermesini istemez isek values komutu kullanılır."
   ]
  },
  {
   "cell_type": "code",
   "execution_count": 13,
   "id": "b87b296c-770f-4079-adf4-edf26d874d6f",
   "metadata": {},
   "outputs": [
    {
     "data": {
      "text/plain": [
       "0    1\n",
       "1    2\n",
       "2    3\n",
       "3    4\n",
       "4    5\n",
       "dtype: int64"
      ]
     },
     "execution_count": 13,
     "metadata": {},
     "output_type": "execute_result"
    }
   ],
   "source": [
    "seri.head() #Dizinin ilk 5 tanesini getirir."
   ]
  },
  {
   "cell_type": "code",
   "execution_count": 15,
   "id": "d83a239d-f92f-4ba0-9753-723d565bf172",
   "metadata": {},
   "outputs": [
    {
     "data": {
      "text/plain": [
       "0    1\n",
       "1    2\n",
       "2    3\n",
       "dtype: int64"
      ]
     },
     "execution_count": 15,
     "metadata": {},
     "output_type": "execute_result"
    }
   ],
   "source": [
    "seri.head(3) #Dizinin ilk 3 tanesi getirir."
   ]
  },
  {
   "cell_type": "code",
   "execution_count": 14,
   "id": "31fa4c7f-1bc4-4c21-bad6-97799b8aca0d",
   "metadata": {},
   "outputs": [
    {
     "data": {
      "text/plain": [
       "1    2\n",
       "2    3\n",
       "3    4\n",
       "4    5\n",
       "5    6\n",
       "dtype: int64"
      ]
     },
     "execution_count": 14,
     "metadata": {},
     "output_type": "execute_result"
    }
   ],
   "source": [
    "seri.tail() #Dizinin son 5 tanesini getirir."
   ]
  }
 ],
 "metadata": {
  "kernelspec": {
   "display_name": "Python 3 (ipykernel)",
   "language": "python",
   "name": "python3"
  },
  "language_info": {
   "codemirror_mode": {
    "name": "ipython",
    "version": 3
   },
   "file_extension": ".py",
   "mimetype": "text/x-python",
   "name": "python",
   "nbconvert_exporter": "python",
   "pygments_lexer": "ipython3",
   "version": "3.11.7"
  }
 },
 "nbformat": 4,
 "nbformat_minor": 5
}
