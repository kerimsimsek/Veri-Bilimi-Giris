{
 "cells": [
  {
   "cell_type": "code",
   "execution_count": 1,
   "id": "f98f30c5-514c-46fe-a5b4-94f9f59830a3",
   "metadata": {},
   "outputs": [],
   "source": [
    "import pandas as pd\n",
    "import numpy as np"
   ]
  },
  {
   "cell_type": "code",
   "execution_count": 2,
   "id": "d491c27b-3228-4768-b6fe-3470567506f5",
   "metadata": {},
   "outputs": [],
   "source": [
    "seri = pd.Series((1,2,3,4,5,6)) #Seri değişkeninde dizi oluşturdum."
   ]
  },
  {
   "cell_type": "code",
   "execution_count": 3,
   "id": "f2dd9c88-b3b5-486f-b2a2-b9348e222cc6",
   "metadata": {},
   "outputs": [
    {
     "data": {
      "text/plain": [
       "0    1\n",
       "1    2\n",
       "2    3\n",
       "3    4\n",
       "4    5\n",
       "5    6\n",
       "dtype: int64"
      ]
     },
     "execution_count": 3,
     "metadata": {},
     "output_type": "execute_result"
    }
   ],
   "source": [
    "seri #değişkeni ekrana yazdırdım."
   ]
  },
  {
   "cell_type": "code",
   "execution_count": 4,
   "id": "2056900c-b491-4958-a28c-22a0a98ff973",
   "metadata": {},
   "outputs": [
    {
     "data": {
      "text/plain": [
       "<bound method Series.items of 0    1\n",
       "1    2\n",
       "2    3\n",
       "3    4\n",
       "4    5\n",
       "5    6\n",
       "dtype: int64>"
      ]
     },
     "execution_count": 4,
     "metadata": {},
     "output_type": "execute_result"
    }
   ],
   "source": [
    "seri.items #değişkenin indekslerini görmek için items kullandım."
   ]
  },
  {
   "cell_type": "code",
   "execution_count": 5,
   "id": "acf40bef-b1ca-480d-88f4-1bcf29dcd3e5",
   "metadata": {},
   "outputs": [
    {
     "data": {
      "text/plain": [
       "0    1\n",
       "1    2\n",
       "2    3\n",
       "dtype: int64"
      ]
     },
     "execution_count": 5,
     "metadata": {},
     "output_type": "execute_result"
    }
   ],
   "source": [
    "seri[0:3] #dizinin 0.indeks ile 2.indekse kadar olanı çağırdım."
   ]
  },
  {
   "cell_type": "code",
   "execution_count": 6,
   "id": "c258eeef-08af-4a5b-8d9e-3abb16a9fa0f",
   "metadata": {},
   "outputs": [],
   "source": [
    "seri.index=[10,20,30,40,50,60 #dizinin indekslerini değiştirdim."
   ]
  },
  {
   "cell_type": "code",
   "execution_count": 7,
   "id": "c99f2121-01a9-4569-893b-a270e983d66c",
   "metadata": {},
   "outputs": [
    {
     "data": {
      "text/plain": [
       "10    1\n",
       "20    2\n",
       "30    3\n",
       "40    4\n",
       "50    5\n",
       "60    6\n",
       "dtype: int64"
      ]
     },
     "execution_count": 7,
     "metadata": {},
     "output_type": "execute_result"
    }
   ],
   "source": [
    "seri #diziyi görüntüledim."
   ]
  },
  {
   "cell_type": "code",
   "execution_count": 8,
   "id": "9f6585c6-0905-4e63-a297-534b440fd0fc",
   "metadata": {},
   "outputs": [
    {
     "data": {
      "text/plain": [
       "Series([], dtype: int64)"
      ]
     },
     "execution_count": 8,
     "metadata": {},
     "output_type": "execute_result"
    }
   ],
   "source": [
    "seri[10:40] #dizinin 10. indeksi ile 40. indeksi olanı çağırdım fakat gelmedi."
   ]
  },
  {
   "cell_type": "code",
   "execution_count": 10,
   "id": "5a5f1344-3b34-43f4-a8fb-54036a27347b",
   "metadata": {},
   "outputs": [
    {
     "data": {
      "text/plain": [
       "20    2\n",
       "30    3\n",
       "40    4\n",
       "dtype: int64"
      ]
     },
     "execution_count": 10,
     "metadata": {},
     "output_type": "execute_result"
    }
   ],
   "source": [
    "seri[1:4] #dizinin indeksini değiştirmeme rağmen 1 ile 4. indekse kadar olanı çağırdım ve gösterdi."
   ]
  },
  {
   "cell_type": "code",
   "execution_count": 11,
   "id": "c24c5211-31b2-4e6d-b4f7-228dd4809734",
   "metadata": {},
   "outputs": [],
   "source": [
    "seri.index=(\"a\",\"b\",\"c\",\"d\",\"e\",\"f\") #dizinin indeksinin string olarak değiştirdim."
   ]
  },
  {
   "cell_type": "code",
   "execution_count": 13,
   "id": "9094f3ca-8ad8-4e03-b252-e320203edeab",
   "metadata": {},
   "outputs": [
    {
     "data": {
      "text/plain": [
       "a    1\n",
       "b    2\n",
       "c    3\n",
       "d    4\n",
       "e    5\n",
       "f    6\n",
       "dtype: int64"
      ]
     },
     "execution_count": 13,
     "metadata": {},
     "output_type": "execute_result"
    }
   ],
   "source": [
    "seri #diziyi görüntüledim."
   ]
  },
  {
   "cell_type": "code",
   "execution_count": 14,
   "id": "9226e504-dc2f-4fd4-ba09-4904b502096f",
   "metadata": {},
   "outputs": [
    {
     "data": {
      "text/plain": [
       "c    3\n",
       "d    4\n",
       "e    5\n",
       "dtype: int64"
      ]
     },
     "execution_count": 14,
     "metadata": {},
     "output_type": "execute_result"
    }
   ],
   "source": [
    "seri[2:5] #dizinin 2'den 5'e kadar olan indeksi çağırdım ve geldi. Nedeni string ifade versemde integer olarak çağırdığımda gelir."
   ]
  },
  {
   "cell_type": "code",
   "execution_count": 15,
   "id": "16f70162-bd24-46cd-83a6-2d82e2735c4e",
   "metadata": {},
   "outputs": [
    {
     "data": {
      "text/plain": [
       "b    2\n",
       "c    3\n",
       "d    4\n",
       "e    5\n",
       "dtype: int64"
      ]
     },
     "execution_count": 15,
     "metadata": {},
     "output_type": "execute_result"
    }
   ],
   "source": [
    "seri[\"b\":\"e\"] #dizinin indeksini string olarak çağırdım ve geldi."
   ]
  }
 ],
 "metadata": {
  "kernelspec": {
   "display_name": "Python 3 (ipykernel)",
   "language": "python",
   "name": "python3"
  },
  "language_info": {
   "codemirror_mode": {
    "name": "ipython",
    "version": 3
   },
   "file_extension": ".py",
   "mimetype": "text/x-python",
   "name": "python",
   "nbconvert_exporter": "python",
   "pygments_lexer": "ipython3",
   "version": "3.11.7"
  }
 },
 "nbformat": 4,
 "nbformat_minor": 5
}
