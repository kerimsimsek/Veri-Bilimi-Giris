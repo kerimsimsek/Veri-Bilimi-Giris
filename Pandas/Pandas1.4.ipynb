{
 "cells": [
  {
   "cell_type": "code",
   "execution_count": 1,
   "id": "f98f30c5-514c-46fe-a5b4-94f9f59830a3",
   "metadata": {},
   "outputs": [],
   "source": [
    "import pandas as pd\n",
    "import numpy as np"
   ]
  },
  {
   "cell_type": "code",
   "execution_count": 2,
   "id": "d491c27b-3228-4768-b6fe-3470567506f5",
   "metadata": {},
   "outputs": [],
   "source": [
    "seri = pd.Series((1,2,3,4,5,6))"
   ]
  },
  {
   "cell_type": "code",
   "execution_count": 3,
   "id": "be7d1807-fbbc-4628-9c1d-70fcbf7ee1fd",
   "metadata": {},
   "outputs": [
    {
     "data": {
      "text/plain": [
       "1"
      ]
     },
     "execution_count": 3,
     "metadata": {},
     "output_type": "execute_result"
    }
   ],
   "source": [
    "seri[0] #Dizideki 0. indeksteki veriyi çağırdım."
   ]
  },
  {
   "cell_type": "code",
   "execution_count": 4,
   "id": "45ac2763-2beb-4ad4-a684-c3ab12b8adaa",
   "metadata": {},
   "outputs": [
    {
     "data": {
      "text/plain": [
       "4"
      ]
     },
     "execution_count": 4,
     "metadata": {},
     "output_type": "execute_result"
    }
   ],
   "source": [
    "seri[3] #Dizideki 3. indeksteki veriyi çağırdım."
   ]
  },
  {
   "cell_type": "code",
   "execution_count": 5,
   "id": "bad01455-0cfe-4740-b939-bcb14c6f686e",
   "metadata": {},
   "outputs": [
    {
     "data": {
      "text/plain": [
       "0    1\n",
       "1    2\n",
       "2    3\n",
       "3    4\n",
       "4    5\n",
       "5    6\n",
       "dtype: int64"
      ]
     },
     "execution_count": 5,
     "metadata": {},
     "output_type": "execute_result"
    }
   ],
   "source": [
    "seri #Diziyi görüntüledim."
   ]
  },
  {
   "cell_type": "code",
   "execution_count": 10,
   "id": "63e74a9b-7028-4979-a151-a4b360bbb6ca",
   "metadata": {},
   "outputs": [
    {
     "data": {
      "text/plain": [
       "10    1\n",
       "20    2\n",
       "30    3\n",
       "40    4\n",
       "50    5\n",
       "60    6\n",
       "dtype: int64"
      ]
     },
     "execution_count": 10,
     "metadata": {},
     "output_type": "execute_result"
    }
   ],
   "source": [
    "seri1=pd.Series((1,2,3,4,5,6),index=(10,20,30,40,50,60)) \n",
    "seri1 #verilerin indeksini değiştirebilirim."
   ]
  },
  {
   "cell_type": "code",
   "execution_count": 9,
   "id": "bbb411be-17bf-4969-b1a8-1c71ddda6471",
   "metadata": {},
   "outputs": [
    {
     "data": {
      "text/plain": [
       "a    1\n",
       "b    2\n",
       "c    3\n",
       "d    4\n",
       "e    5\n",
       "f    6\n",
       "dtype: int64"
      ]
     },
     "execution_count": 9,
     "metadata": {},
     "output_type": "execute_result"
    }
   ],
   "source": [
    "seri2 = pd.Series((1,2,3,4,5,6),index=(\"a\",\"b\",\"c\",\"d\",\"e\",\"f\"))\n",
    "seri2 #verilerin indeksini string olarak değiştirebilirim."
   ]
  },
  {
   "cell_type": "code",
   "execution_count": 12,
   "id": "ca8a2b38-7596-4f82-a6c9-94c864e4286c",
   "metadata": {},
   "outputs": [
    {
     "data": {
      "text/plain": [
       "5"
      ]
     },
     "execution_count": 12,
     "metadata": {},
     "output_type": "execute_result"
    }
   ],
   "source": [
    "seri2[\"e\"]"
   ]
  },
  {
   "cell_type": "markdown",
   "id": "71985f97-76ca-4134-934a-831ab5138aeb",
   "metadata": {},
   "source": [
    "---"
   ]
  },
  {
   "cell_type": "code",
   "execution_count": 21,
   "id": "ec92c555-7e5d-4393-b17e-4e5673ff0534",
   "metadata": {},
   "outputs": [],
   "source": [
    "sozluk={\"a\":1,\"b\":2,\"c\":3,\"d\":4,\"e\":5} #Sözlük oluşturdum."
   ]
  },
  {
   "cell_type": "code",
   "execution_count": 22,
   "id": "75e55ae5-d54a-470d-8115-b40ee208d4f2",
   "metadata": {},
   "outputs": [
    {
     "data": {
      "text/plain": [
       "{'a': 1, 'b': 2, 'c': 3, 'd': 4, 'e': 5}"
      ]
     },
     "execution_count": 22,
     "metadata": {},
     "output_type": "execute_result"
    }
   ],
   "source": [
    "sozluk"
   ]
  },
  {
   "cell_type": "code",
   "execution_count": 23,
   "id": "2fe9bf62-46e4-486a-ac0e-4d957301d473",
   "metadata": {},
   "outputs": [
    {
     "data": {
      "text/plain": [
       "a    1\n",
       "b    2\n",
       "c    3\n",
       "d    4\n",
       "e    5\n",
       "dtype: int64"
      ]
     },
     "execution_count": 23,
     "metadata": {},
     "output_type": "execute_result"
    }
   ],
   "source": [
    "seri3=pd.Series(sozluk) #Sözlüğü pandasa çevirdim.\n",
    "seri3 "
   ]
  }
 ],
 "metadata": {
  "kernelspec": {
   "display_name": "Python 3 (ipykernel)",
   "language": "python",
   "name": "python3"
  },
  "language_info": {
   "codemirror_mode": {
    "name": "ipython",
    "version": 3
   },
   "file_extension": ".py",
   "mimetype": "text/x-python",
   "name": "python",
   "nbconvert_exporter": "python",
   "pygments_lexer": "ipython3",
   "version": "3.11.7"
  }
 },
 "nbformat": 4,
 "nbformat_minor": 5
}
