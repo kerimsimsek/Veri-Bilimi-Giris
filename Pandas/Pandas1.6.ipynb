{
 "cells": [
  {
   "cell_type": "code",
   "execution_count": 8,
   "id": "f98f30c5-514c-46fe-a5b4-94f9f59830a3",
   "metadata": {},
   "outputs": [],
   "source": [
    "import pandas as pd\n",
    "import numpy as np"
   ]
  },
  {
   "cell_type": "code",
   "execution_count": 17,
   "id": "d491c27b-3228-4768-b6fe-3470567506f5",
   "metadata": {},
   "outputs": [],
   "source": [
    "seri1 = pd.Series([1,2,3,4],index=(\"a\",\"b\",\"c\",\"d\"))\n",
    "seri2 = pd.Series([5,6,7,8],index=(\"e\",\"f\",\"g\",\"h\"))"
   ]
  },
  {
   "cell_type": "code",
   "execution_count": 18,
   "id": "21d9d802-1fb8-4491-9245-e10b0b7084b5",
   "metadata": {},
   "outputs": [
    {
     "data": {
      "text/plain": [
       "a    1\n",
       "b    2\n",
       "c    3\n",
       "d    4\n",
       "dtype: int64"
      ]
     },
     "execution_count": 18,
     "metadata": {},
     "output_type": "execute_result"
    }
   ],
   "source": [
    "seri1"
   ]
  },
  {
   "cell_type": "code",
   "execution_count": 19,
   "id": "e4eae5af-f6b8-4331-a29b-e38d6f44bc54",
   "metadata": {},
   "outputs": [
    {
     "data": {
      "text/plain": [
       "e    5\n",
       "f    6\n",
       "g    7\n",
       "h    8\n",
       "dtype: int64"
      ]
     },
     "execution_count": 19,
     "metadata": {},
     "output_type": "execute_result"
    }
   ],
   "source": [
    "seri2"
   ]
  },
  {
   "cell_type": "code",
   "execution_count": 20,
   "id": "e2bb8657-6ff2-4c5c-a6b4-a2564e31e837",
   "metadata": {},
   "outputs": [
    {
     "data": {
      "text/plain": [
       "a    1\n",
       "b    2\n",
       "c    3\n",
       "d    4\n",
       "e    5\n",
       "f    6\n",
       "g    7\n",
       "h    8\n",
       "dtype: int64"
      ]
     },
     "execution_count": 20,
     "metadata": {},
     "output_type": "execute_result"
    }
   ],
   "source": [
    "pd.concat([seri1,seri2]) #concat komutu iki diziyi birleştirdim."
   ]
  },
  {
   "cell_type": "code",
   "execution_count": 22,
   "id": "891efd04-a3b4-4553-b61a-3f8febeddcc7",
   "metadata": {},
   "outputs": [
    {
     "data": {
      "text/plain": [
       "a    1\n",
       "b    2\n",
       "c    3\n",
       "d    4\n",
       "dtype: int64"
      ]
     },
     "execution_count": 22,
     "metadata": {},
     "output_type": "execute_result"
    }
   ],
   "source": [
    "seri1 #diziyi birleştirdikten sonra bir değişkene atmadığım için seri1 de bir değişiklik olmamış."
   ]
  },
  {
   "cell_type": "code",
   "execution_count": 24,
   "id": "8fa836bc-880e-4234-a172-24767c5b6b43",
   "metadata": {},
   "outputs": [
    {
     "data": {
      "text/plain": [
       "False"
      ]
     },
     "execution_count": 24,
     "metadata": {},
     "output_type": "execute_result"
    }
   ],
   "source": [
    "\"a\" in seri2 #a ifadesi seri2 değişkenindeki dizinin içinde var mı diye kontrol ettim."
   ]
  },
  {
   "cell_type": "code",
   "execution_count": 25,
   "id": "4c8a64ae-172d-46da-a5b1-cd15a1e0c6b0",
   "metadata": {},
   "outputs": [
    {
     "data": {
      "text/plain": [
       "True"
      ]
     },
     "execution_count": 25,
     "metadata": {},
     "output_type": "execute_result"
    }
   ],
   "source": [
    "\"a\" in seri1 #a ifadesi seri1 değişkenindeki dizinin içinde var mı diye kontrol ettim."
   ]
  },
  {
   "cell_type": "code",
   "execution_count": 26,
   "id": "0771487e-a201-4e1e-84f9-db1ab582471d",
   "metadata": {},
   "outputs": [],
   "source": [
    "seri1[\"a\"]=5 #seri1 değişkenindeki a indeksinin verisini 5 ile değiştirdim."
   ]
  },
  {
   "cell_type": "code",
   "execution_count": 27,
   "id": "cbd04525-230e-4891-9c8b-95f9c6e792d8",
   "metadata": {},
   "outputs": [
    {
     "data": {
      "text/plain": [
       "a    5\n",
       "b    2\n",
       "c    3\n",
       "d    4\n",
       "dtype: int64"
      ]
     },
     "execution_count": 27,
     "metadata": {},
     "output_type": "execute_result"
    }
   ],
   "source": [
    "seri1"
   ]
  }
 ],
 "metadata": {
  "kernelspec": {
   "display_name": "Python 3 (ipykernel)",
   "language": "python",
   "name": "python3"
  },
  "language_info": {
   "codemirror_mode": {
    "name": "ipython",
    "version": 3
   },
   "file_extension": ".py",
   "mimetype": "text/x-python",
   "name": "python",
   "nbconvert_exporter": "python",
   "pygments_lexer": "ipython3",
   "version": "3.11.7"
  }
 },
 "nbformat": 4,
 "nbformat_minor": 5
}
