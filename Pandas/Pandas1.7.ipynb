{
 "cells": [
  {
   "cell_type": "code",
   "execution_count": 1,
   "id": "f98f30c5-514c-46fe-a5b4-94f9f59830a3",
   "metadata": {},
   "outputs": [],
   "source": [
    "import pandas as pd\n",
    "import numpy as np"
   ]
  },
  {
   "cell_type": "code",
   "execution_count": 2,
   "id": "d491c27b-3228-4768-b6fe-3470567506f5",
   "metadata": {},
   "outputs": [],
   "source": [
    "seri2=pd.Series((1,2,3,4),index=(10,20,30,40))"
   ]
  },
  {
   "cell_type": "code",
   "execution_count": 3,
   "id": "21d9d802-1fb8-4491-9245-e10b0b7084b5",
   "metadata": {},
   "outputs": [
    {
     "data": {
      "text/plain": [
       "10    1\n",
       "20    2\n",
       "30    3\n",
       "40    4\n",
       "dtype: int64"
      ]
     },
     "execution_count": 3,
     "metadata": {},
     "output_type": "execute_result"
    }
   ],
   "source": [
    "seri2"
   ]
  },
  {
   "cell_type": "markdown",
   "id": "77acef5b-ac56-4128-a067-58db362558c3",
   "metadata": {},
   "source": [
    "SERİ2 DİZİSİNDEKİ \"3\" VERİSİNİN İNDEKSİNİ 30 OLARAK TANIMLADIM VE ÇAĞIRDIĞIMDA GELDİ FAKAT 2. İNDEKSİ GETİR DEDİĞİMDE HATA VERDİ ÇÜNKÜ GERÇEK İNDEKSİNE BAKMIYOR BENİM TANIMLADIĞIM İNDEKSE BAKIYOR İLOC KOMUTU İLE PROGRAMA DEDİMKİ GERÇEK İNDEKSE BAK VE VERİYİ EKRANA YAZDIRDI."
   ]
  },
  {
   "cell_type": "code",
   "execution_count": 5,
   "id": "3981f659-b776-4226-8dd7-56c29cce5b2f",
   "metadata": {},
   "outputs": [
    {
     "data": {
      "text/plain": [
       "3"
      ]
     },
     "execution_count": 5,
     "metadata": {},
     "output_type": "execute_result"
    }
   ],
   "source": [
    "seri2[30]"
   ]
  },
  {
   "cell_type": "code",
   "execution_count": null,
   "id": "3cefa4ee-1f86-41bd-bc42-b497366d5f39",
   "metadata": {},
   "outputs": [],
   "source": [
    "seri2[2]"
   ]
  },
  {
   "cell_type": "code",
   "execution_count": 6,
   "id": "d66fe624-6607-4e48-a3c0-36eb95b055d8",
   "metadata": {},
   "outputs": [
    {
     "data": {
      "text/plain": [
       "3"
      ]
     },
     "execution_count": 6,
     "metadata": {},
     "output_type": "execute_result"
    }
   ],
   "source": [
    "seri2.iloc[2]"
   ]
  },
  {
   "cell_type": "markdown",
   "id": "148e27c1-959b-471c-90cd-d0b751a1791e",
   "metadata": {},
   "source": [
    "----"
   ]
  },
  {
   "cell_type": "markdown",
   "id": "ad8130d8-4dd7-4656-b524-90c5d4d74b7e",
   "metadata": {},
   "source": [
    "SERİ2[20:40] İLE ÇAĞIRDIĞIMDA GERÇEK İNDEKS NUMARALARI BU OLMADIĞI İÇİN DİZİ BOŞ GELİYOR. BU NEDENLE LOC KOMUTU İLE PROGRAMA DİYORUM Kİ GERÇEK İNDEKSE BAKMA BENİM TANIMLADIĞIM İNDEKSE BAK DİYORUM VE VERİYİ EKRANA YAZDIRIYOR."
   ]
  },
  {
   "cell_type": "code",
   "execution_count": 7,
   "id": "8cbcc37e-93a4-498a-8451-67c815097841",
   "metadata": {},
   "outputs": [
    {
     "data": {
      "text/plain": [
       "30    3\n",
       "40    4\n",
       "dtype: int64"
      ]
     },
     "execution_count": 7,
     "metadata": {},
     "output_type": "execute_result"
    }
   ],
   "source": [
    "seri2[2:4]"
   ]
  },
  {
   "cell_type": "code",
   "execution_count": 10,
   "id": "4a6f57b3-fadb-473e-8bea-e25ca26738b0",
   "metadata": {},
   "outputs": [
    {
     "data": {
      "text/plain": [
       "Series([], dtype: int64)"
      ]
     },
     "execution_count": 10,
     "metadata": {},
     "output_type": "execute_result"
    }
   ],
   "source": [
    "seri2[20:40]"
   ]
  },
  {
   "cell_type": "code",
   "execution_count": 8,
   "id": "8c113430-1c67-4334-8727-a974c7d725d4",
   "metadata": {},
   "outputs": [
    {
     "data": {
      "text/plain": [
       "20    2\n",
       "30    3\n",
       "40    4\n",
       "dtype: int64"
      ]
     },
     "execution_count": 8,
     "metadata": {},
     "output_type": "execute_result"
    }
   ],
   "source": [
    "seri2.loc[20:40]"
   ]
  },
  {
   "cell_type": "markdown",
   "id": "e48a5684-14ff-47c2-8444-e0ff0097316c",
   "metadata": {},
   "source": [
    "----"
   ]
  },
  {
   "cell_type": "markdown",
   "id": "a6821063-a122-489e-a1da-8a51d9f28a37",
   "metadata": {},
   "source": [
    "İLOC İLE LOC ARASINDAKİ FARK İLOC GERÇEK DEĞERİNE BAKMASINI SAĞLAR LOC İSE GERÇEK İNDEKSİNE BAKMAMASINI SAĞLIYOR. GENELLİKLE LOC A İLE B ARASINDAKİ VERİLERİ GETİR DEDİĞİMİZDE KULLANILIR. İLOC İSE TEK VERİYİ ÇAĞIRDIĞIMIZ ZAMAN KULLANILIR."
   ]
  }
 ],
 "metadata": {
  "kernelspec": {
   "display_name": "Python 3 (ipykernel)",
   "language": "python",
   "name": "python3"
  },
  "language_info": {
   "codemirror_mode": {
    "name": "ipython",
    "version": 3
   },
   "file_extension": ".py",
   "mimetype": "text/x-python",
   "name": "python",
   "nbconvert_exporter": "python",
   "pygments_lexer": "ipython3",
   "version": "3.11.7"
  }
 },
 "nbformat": 4,
 "nbformat_minor": 5
}
